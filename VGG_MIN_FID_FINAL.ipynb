{
  "nbformat": 4,
  "nbformat_minor": 0,
  "metadata": {
    "accelerator": "GPU",
    "colab": {
      "name": "VGG_imagnet.ipynb",
      "provenance": [],
      "collapsed_sections": [],
      "include_colab_link": true
    },
    "kernelspec": {
      "display_name": "Python 3",
      "name": "python3"
    },
    "language_info": {
      "name": "python"
    }
  },
  "cells": [
    {
      "cell_type": "markdown",
      "metadata": {
        "id": "view-in-github",
        "colab_type": "text"
      },
      "source": [
        "<a href=\"https://colab.research.google.com/github/rutia2044/rutiarbiv-gmail.com/blob/master/VGG_MIN_FID_FINAL.ipynb\" target=\"_parent\"><img src=\"https://colab.research.google.com/assets/colab-badge.svg\" alt=\"Open In Colab\"/></a>"
      ]
    },
    {
      "cell_type": "markdown",
      "metadata": {
        "id": "nwzDcTQ2ct-N"
      },
      "source": [
        "1. FEATURES EXTRACTION USING VGG-16\n",
        "2. DIMENSION REDUCTION BY TSNE                   \n",
        "3. CALCULATE **FID**(Frechet Inception Distance) FOR RANDOMALLY VECTORS OF INDEXES \n",
        "4. SELECT THE INDEXES THAT RECEIVED THE LOWEST FID \n",
        "\n",
        "\n"
      ]
    },
    {
      "cell_type": "code",
      "metadata": {
        "id": "ngaEb_1NiX-t"
      },
      "source": [
        "#from google.colab import drive\n",
        "#drive.mount('/content/drive')"
      ],
      "execution_count": 1,
      "outputs": []
    },
    {
      "cell_type": "code",
      "metadata": {
        "id": "cEQPbjVPDhFP"
      },
      "source": [
        "import numpy as np\n",
        " \n",
        "import torchvision.transforms as transforms\n",
        "from torchvision.utils import make_grid\n",
        " \n",
        "from torch.utils.data import DataLoader\n",
        "from torchvision import datasets\n",
        "from torch.autograd import Variable\n",
        " \n",
        "import torch.nn as nn\n",
        "import torch.nn.functional as F\n",
        "import torch\n",
        " \n",
        "import os\n",
        "import glob\n",
        " \n",
        "import matplotlib.pyplot as plt\n",
        "from tqdm.notebook import tqdm\n",
        "import warnings\n",
        "from tensorflow import keras,summary\n",
        "from keras.applications.vgg16 import VGG16\n",
        "from sklearn.manifold import TSNE\n",
        "\n",
        "from sklearn.cluster import KMeans\n",
        "import collections\n",
        "\n",
        "import sys\n",
        "sys.path.insert(0, \"sample_data\")\n",
        "#from Functions import Load_images \n",
        "import Functions"
      ],
      "execution_count": 2,
      "outputs": []
    },
    {
      "cell_type": "markdown",
      "metadata": {
        "id": "JQPO0A6rcT5q"
      },
      "source": [
        "LOAD MONET IMAGES"
      ]
    },
    {
      "cell_type": "code",
      "metadata": {
        "colab": {
          "base_uri": "https://localhost:8080/"
        },
        "id": "wynBkqLqCSVZ",
        "outputId": "d38bd046-840c-4e36-8463-0e9e28d8de34"
      },
      "source": [
        "images = Functions.Load_images()"
      ],
      "execution_count": 3,
      "outputs": [
        {
          "output_type": "stream",
          "text": [
            "100%|██████████| 300/300 [00:00<00:00, 749.26it/s]\n"
          ],
          "name": "stderr"
        }
      ]
    },
    {
      "cell_type": "code",
      "metadata": {
        "id": "3pJSM2wCCWOB",
        "colab": {
          "base_uri": "https://localhost:8080/"
        },
        "outputId": "9150dd78-fd9d-464b-c20e-bab141d36864"
      },
      "source": [
        "images = images/255\n",
        "print(images[0][0][0][0])"
      ],
      "execution_count": 4,
      "outputs": [
        {
          "output_type": "stream",
          "text": [
            "0.6431372549019608\n"
          ],
          "name": "stdout"
        }
      ]
    },
    {
      "cell_type": "markdown",
      "metadata": {
        "id": "VvEe51Ycccx4"
      },
      "source": [
        "FEATURES EXTRACTION USING VGG (without fully connected layer, using 'imagenet' weights)"
      ]
    },
    {
      "cell_type": "code",
      "metadata": {
        "colab": {
          "base_uri": "https://localhost:8080/"
        },
        "id": "m6464ntODT29",
        "outputId": "78b3b46a-3c92-48be-ddc0-3b1bb8598ec4"
      },
      "source": [
        "#Featers Extraction by VGG Network -without fully connected layer(include_top=False)\n",
        "ModelVGG16 = VGG16(include_top=False,input_shape=(256, 256, 3),weights='imagenet')\n",
        "ModelVGG16.summary()"
      ],
      "execution_count": 5,
      "outputs": [
        {
          "output_type": "stream",
          "text": [
            "Downloading data from https://storage.googleapis.com/tensorflow/keras-applications/vgg16/vgg16_weights_tf_dim_ordering_tf_kernels_notop.h5\n",
            "58892288/58889256 [==============================] - 0s 0us/step\n",
            "58900480/58889256 [==============================] - 0s 0us/step\n",
            "Model: \"vgg16\"\n",
            "_________________________________________________________________\n",
            "Layer (type)                 Output Shape              Param #   \n",
            "=================================================================\n",
            "input_1 (InputLayer)         [(None, 256, 256, 3)]     0         \n",
            "_________________________________________________________________\n",
            "block1_conv1 (Conv2D)        (None, 256, 256, 64)      1792      \n",
            "_________________________________________________________________\n",
            "block1_conv2 (Conv2D)        (None, 256, 256, 64)      36928     \n",
            "_________________________________________________________________\n",
            "block1_pool (MaxPooling2D)   (None, 128, 128, 64)      0         \n",
            "_________________________________________________________________\n",
            "block2_conv1 (Conv2D)        (None, 128, 128, 128)     73856     \n",
            "_________________________________________________________________\n",
            "block2_conv2 (Conv2D)        (None, 128, 128, 128)     147584    \n",
            "_________________________________________________________________\n",
            "block2_pool (MaxPooling2D)   (None, 64, 64, 128)       0         \n",
            "_________________________________________________________________\n",
            "block3_conv1 (Conv2D)        (None, 64, 64, 256)       295168    \n",
            "_________________________________________________________________\n",
            "block3_conv2 (Conv2D)        (None, 64, 64, 256)       590080    \n",
            "_________________________________________________________________\n",
            "block3_conv3 (Conv2D)        (None, 64, 64, 256)       590080    \n",
            "_________________________________________________________________\n",
            "block3_pool (MaxPooling2D)   (None, 32, 32, 256)       0         \n",
            "_________________________________________________________________\n",
            "block4_conv1 (Conv2D)        (None, 32, 32, 512)       1180160   \n",
            "_________________________________________________________________\n",
            "block4_conv2 (Conv2D)        (None, 32, 32, 512)       2359808   \n",
            "_________________________________________________________________\n",
            "block4_conv3 (Conv2D)        (None, 32, 32, 512)       2359808   \n",
            "_________________________________________________________________\n",
            "block4_pool (MaxPooling2D)   (None, 16, 16, 512)       0         \n",
            "_________________________________________________________________\n",
            "block5_conv1 (Conv2D)        (None, 16, 16, 512)       2359808   \n",
            "_________________________________________________________________\n",
            "block5_conv2 (Conv2D)        (None, 16, 16, 512)       2359808   \n",
            "_________________________________________________________________\n",
            "block5_conv3 (Conv2D)        (None, 16, 16, 512)       2359808   \n",
            "_________________________________________________________________\n",
            "block5_pool (MaxPooling2D)   (None, 8, 8, 512)         0         \n",
            "=================================================================\n",
            "Total params: 14,714,688\n",
            "Trainable params: 14,714,688\n",
            "Non-trainable params: 0\n",
            "_________________________________________________________________\n"
          ],
          "name": "stdout"
        }
      ]
    },
    {
      "cell_type": "code",
      "metadata": {
        "colab": {
          "base_uri": "https://localhost:8080/"
        },
        "id": "9QcKjKf9D0oE",
        "outputId": "9fca1e01-ab6e-4803-947f-623d22a47c64"
      },
      "source": [
        "ImgPred = ModelVGG16.predict(images)\n",
        "ImgPred.shape"
      ],
      "execution_count": 6,
      "outputs": [
        {
          "output_type": "execute_result",
          "data": {
            "text/plain": [
              "(300, 8, 8, 512)"
            ]
          },
          "metadata": {
            "tags": []
          },
          "execution_count": 6
        }
      ]
    },
    {
      "cell_type": "markdown",
      "metadata": {
        "id": "jy2jeolU38sO"
      },
      "source": [
        "DIMENSION REDUCTION BY TSNE"
      ]
    },
    {
      "cell_type": "code",
      "metadata": {
        "id": "7Q_IUzmf39Zd",
        "outputId": "6ebe15a1-bdf3-4fc9-8d07-d043c9c8dc00",
        "colab": {
          "base_uri": "https://localhost:8080/"
        }
      },
      "source": [
        "tsneAllImages = TSNE(n_components=700,method='exact').fit_transform( ImgPred.reshape(300,-1))\n",
        "print(tsneAllImages.shape)"
      ],
      "execution_count": 7,
      "outputs": [
        {
          "output_type": "stream",
          "text": [
            "(300, 700)\n"
          ],
          "name": "stdout"
        }
      ]
    },
    {
      "cell_type": "markdown",
      "metadata": {
        "id": "DlQKFvmc5oCq"
      },
      "source": [
        "* CALCULATE **FID** (Frechet Inception Distance) FOR RANDOMALLY VECTORS OF INDEXES \n",
        "* SELECT THE INDEXES THAT RECEIVED THE LOWEST FID "
      ]
    },
    {
      "cell_type": "code",
      "metadata": {
        "id": "O5WM0K0q1-iI",
        "outputId": "fd2e6028-f401-48b0-aa34-5a024528f6f4",
        "colab": {
          "base_uri": "https://localhost:8080/"
        }
      },
      "source": [
        "min_fid,indexes_with_min_fid= Functions.Find_indexes_whith_min_Fid_from_random_vectors(tsneAllImages,10)"
      ],
      "execution_count": 10,
      "outputs": [
        {
          "output_type": "stream",
          "text": [
            "FID (temp min): 611.118\n",
            "0\n",
            "[221  34 191 282 177 176 132 223 152 257   8 152 144  33  70  55 287  39\n",
            " 268 254 159 170 271  32 217 274 264 227  92 234]\n",
            "FID (temp min): 543.388\n",
            "1\n",
            "[269 183 107 213  25 271  44 198 100  32  79 169 194 281 290 278  37  23\n",
            " 248  71  27 250 122 138  20 281 290  62 266 264]\n",
            "FID (temp min): 307.058\n",
            "2\n",
            "[114  15  72 225 201 183 175 143 265  79 206  74  19  24 244 188 278 249\n",
            " 278 221 258  94 275 253  36  10   1   6 254  40]\n",
            "FID (temp min): 298.170\n",
            "7\n",
            "[190 243  26 249 239  26  85  40  34 277 106 125 117  97 181  39 256  82\n",
            "  96 105 226 292 182  28 172 246  35  79 218 147]\n",
            "FID (temp min): 252.477\n",
            "8\n",
            "[ 94  56 168   6 246 288 135 195  86 269 219  52 244 186  43 238 104  75\n",
            " 242 160  96 184 210 143 268  31  80 157 114 235]\n",
            "MIN Final---FID : 252.477\n",
            "The Selected Indexes Are: \n",
            "[ 94  56 168   6 246 288 135 195  86 269 219  52 244 186  43 238 104  75\n",
            " 242 160  96 184 210 143 268  31  80 157 114 235]\n"
          ],
          "name": "stdout"
        }
      ]
    }
  ]
}