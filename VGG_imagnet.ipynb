{
  "nbformat": 4,
  "nbformat_minor": 0,
  "metadata": {
    "accelerator": "GPU",
    "colab": {
      "name": "VGG_imagnet.ipynb",
      "provenance": [],
      "collapsed_sections": [],
      "authorship_tag": "ABX9TyNoj7UNaBqYK07/9g+pabHu",
      "include_colab_link": true
    },
    "kernelspec": {
      "display_name": "Python 3",
      "name": "python3"
    },
    "language_info": {
      "name": "python"
    }
  },
  "cells": [
    {
      "cell_type": "markdown",
      "metadata": {
        "id": "view-in-github",
        "colab_type": "text"
      },
      "source": [
        "<a href=\"https://colab.research.google.com/github/rutia2044/rutiarbiv-gmail.com/blob/master/VGG_imagnet.ipynb\" target=\"_parent\"><img src=\"https://colab.research.google.com/assets/colab-badge.svg\" alt=\"Open In Colab\"/></a>"
      ]
    },
    {
      "cell_type": "code",
      "metadata": {
        "colab": {
          "base_uri": "https://localhost:8080/"
        },
        "id": "d1pIZ8_TB0g9",
        "outputId": "b3d5a191-296e-42b6-ba33-a9407df75262"
      },
      "source": [
        "from google.colab import drive\n",
        "drive.mount('/content/drive')"
      ],
      "execution_count": 1,
      "outputs": [
        {
          "output_type": "stream",
          "text": [
            "Go to this URL in a browser: https://accounts.google.com/o/oauth2/auth?client_id=947318989803-6bn6qk8qdgf4n4g3pfee6491hc0brc4i.apps.googleusercontent.com&redirect_uri=urn%3aietf%3awg%3aoauth%3a2.0%3aoob&scope=email%20https%3a%2f%2fwww.googleapis.com%2fauth%2fdocs.test%20https%3a%2f%2fwww.googleapis.com%2fauth%2fdrive%20https%3a%2f%2fwww.googleapis.com%2fauth%2fdrive.photos.readonly%20https%3a%2f%2fwww.googleapis.com%2fauth%2fpeopleapi.readonly%20https%3a%2f%2fwww.googleapis.com%2fauth%2fdrive.activity.readonly%20https%3a%2f%2fwww.googleapis.com%2fauth%2fexperimentsandconfigs%20https%3a%2f%2fwww.googleapis.com%2fauth%2fphotos.native&response_type=code\n",
            "\n",
            "Enter your authorization code:\n",
            "4/1AX4XfWi1i2OxrcU0lWfSCGjqf6ICkJ-_7KEFNWG7c5vlaA8oVHY0PFr5MxE\n",
            "Mounted at /content/drive\n"
          ],
          "name": "stdout"
        }
      ]
    },
    {
      "cell_type": "code",
      "metadata": {
        "id": "cEQPbjVPDhFP"
      },
      "source": [
        "import numpy as np\n",
        " \n",
        "import torchvision.transforms as transforms\n",
        "from torchvision.utils import make_grid\n",
        " \n",
        "from torch.utils.data import DataLoader\n",
        "from torchvision import datasets\n",
        "from torch.autograd import Variable\n",
        " \n",
        "import torch.nn as nn\n",
        "import torch.nn.functional as F\n",
        "import torch\n",
        " \n",
        "import os\n",
        "import glob\n",
        " \n",
        "import matplotlib.pyplot as plt\n",
        "from tqdm.notebook import tqdm\n",
        "import warnings\n",
        "from tensorflow import keras,summary\n"
      ],
      "execution_count": 2,
      "outputs": []
    },
    {
      "cell_type": "code",
      "metadata": {
        "id": "6ygy6Sa2CPqt"
      },
      "source": [
        "#import numpy as np\n",
        "#import matplotlib.pyplot as plt\n",
        "from tqdm import tqdm\n",
        "import os\n",
        "from keras.applications.vgg16 import VGG16\n",
        "\n",
        "#from keras import models, layers,applications\n"
      ],
      "execution_count": 3,
      "outputs": []
    },
    {
      "cell_type": "code",
      "metadata": {
        "colab": {
          "base_uri": "https://localhost:8080/"
        },
        "id": "wynBkqLqCSVZ",
        "outputId": "89654d47-1e45-4650-de09-f25973384925"
      },
      "source": [
        "images = []\n",
        "root = '/content/drive/MyDrive/gan-getting-started/monet_jpg'\n",
        "for file in tqdm(os.listdir(root)):\n",
        "    images.append(plt.imread(root+'/'+file))\n",
        "images = np.array(images)"
      ],
      "execution_count": 4,
      "outputs": [
        {
          "output_type": "stream",
          "text": [
            "100%|██████████| 300/300 [01:46<00:00,  2.82it/s]\n"
          ],
          "name": "stderr"
        }
      ]
    },
    {
      "cell_type": "code",
      "metadata": {
        "id": "3pJSM2wCCWOB"
      },
      "source": [
        "images = images/255"
      ],
      "execution_count": 5,
      "outputs": []
    },
    {
      "cell_type": "code",
      "metadata": {
        "colab": {
          "base_uri": "https://localhost:8080/"
        },
        "id": "p6j8G5U6OSCz",
        "outputId": "92eb639f-028d-4531-e94c-9379f3d2ab2c"
      },
      "source": [
        "print(images[0][0][0][0])"
      ],
      "execution_count": 6,
      "outputs": [
        {
          "output_type": "stream",
          "text": [
            "0.6980392156862745\n"
          ],
          "name": "stdout"
        }
      ]
    },
    {
      "cell_type": "code",
      "metadata": {
        "colab": {
          "base_uri": "https://localhost:8080/"
        },
        "id": "m6464ntODT29",
        "outputId": "1068ea02-509c-49e5-bcb2-c08647c5abc2"
      },
      "source": [
        "\n",
        "#Encoder\n",
        "\n",
        "EncoderBaseModel = VGG16(include_top=False,input_shape=(256, 256, 3),weights='imagenet')\n",
        "EncoderBaseModel.summary()"
      ],
      "execution_count": 7,
      "outputs": [
        {
          "output_type": "stream",
          "text": [
            "Downloading data from https://storage.googleapis.com/tensorflow/keras-applications/vgg16/vgg16_weights_tf_dim_ordering_tf_kernels_notop.h5\n",
            "58892288/58889256 [==============================] - 0s 0us/step\n",
            "58900480/58889256 [==============================] - 0s 0us/step\n",
            "Model: \"vgg16\"\n",
            "_________________________________________________________________\n",
            "Layer (type)                 Output Shape              Param #   \n",
            "=================================================================\n",
            "input_1 (InputLayer)         [(None, 256, 256, 3)]     0         \n",
            "_________________________________________________________________\n",
            "block1_conv1 (Conv2D)        (None, 256, 256, 64)      1792      \n",
            "_________________________________________________________________\n",
            "block1_conv2 (Conv2D)        (None, 256, 256, 64)      36928     \n",
            "_________________________________________________________________\n",
            "block1_pool (MaxPooling2D)   (None, 128, 128, 64)      0         \n",
            "_________________________________________________________________\n",
            "block2_conv1 (Conv2D)        (None, 128, 128, 128)     73856     \n",
            "_________________________________________________________________\n",
            "block2_conv2 (Conv2D)        (None, 128, 128, 128)     147584    \n",
            "_________________________________________________________________\n",
            "block2_pool (MaxPooling2D)   (None, 64, 64, 128)       0         \n",
            "_________________________________________________________________\n",
            "block3_conv1 (Conv2D)        (None, 64, 64, 256)       295168    \n",
            "_________________________________________________________________\n",
            "block3_conv2 (Conv2D)        (None, 64, 64, 256)       590080    \n",
            "_________________________________________________________________\n",
            "block3_conv3 (Conv2D)        (None, 64, 64, 256)       590080    \n",
            "_________________________________________________________________\n",
            "block3_pool (MaxPooling2D)   (None, 32, 32, 256)       0         \n",
            "_________________________________________________________________\n",
            "block4_conv1 (Conv2D)        (None, 32, 32, 512)       1180160   \n",
            "_________________________________________________________________\n",
            "block4_conv2 (Conv2D)        (None, 32, 32, 512)       2359808   \n",
            "_________________________________________________________________\n",
            "block4_conv3 (Conv2D)        (None, 32, 32, 512)       2359808   \n",
            "_________________________________________________________________\n",
            "block4_pool (MaxPooling2D)   (None, 16, 16, 512)       0         \n",
            "_________________________________________________________________\n",
            "block5_conv1 (Conv2D)        (None, 16, 16, 512)       2359808   \n",
            "_________________________________________________________________\n",
            "block5_conv2 (Conv2D)        (None, 16, 16, 512)       2359808   \n",
            "_________________________________________________________________\n",
            "block5_conv3 (Conv2D)        (None, 16, 16, 512)       2359808   \n",
            "_________________________________________________________________\n",
            "block5_pool (MaxPooling2D)   (None, 8, 8, 512)         0         \n",
            "=================================================================\n",
            "Total params: 14,714,688\n",
            "Trainable params: 14,714,688\n",
            "Non-trainable params: 0\n",
            "_________________________________________________________________\n"
          ],
          "name": "stdout"
        }
      ]
    },
    {
      "cell_type": "code",
      "metadata": {
        "colab": {
          "base_uri": "https://localhost:8080/"
        },
        "id": "9QcKjKf9D0oE",
        "outputId": "3ba21602-a777-4bbd-a984-967818a740f7"
      },
      "source": [
        "ImgPred = EncoderBaseModel.predict(images)\n",
        "ImgPred.shape"
      ],
      "execution_count": 13,
      "outputs": [
        {
          "output_type": "execute_result",
          "data": {
            "text/plain": [
              "(300, 8, 8, 512)"
            ]
          },
          "metadata": {
            "tags": []
          },
          "execution_count": 13
        }
      ]
    },
    {
      "cell_type": "code",
      "metadata": {
        "id": "71Pv8KiV5Qsn"
      },
      "source": [
        "from sklearn.manifold import TSNE\n",
        "\n",
        "#tsneAllImages = TSNE(n_components=700).fit_transform( ImgPred.reshape(300,-1))\n",
        "tsneAllImages = TSNE(n_components=7000,method='exact').fit_transform( ImgPred.reshape(300,-1))\n",
        "print(tsneAllImages.shape)"
      ],
      "execution_count": null,
      "outputs": []
    },
    {
      "cell_type": "code",
      "metadata": {
        "id": "pwwk_2sUKZf1"
      },
      "source": [
        "\n",
        "# save numpy array as csv file\n",
        "#from numpy import asarray\n",
        "from numpy import savetxt\n",
        "# define data\n",
        "#data = asarray([[0, 1, 2, 3, 4, 5, 6, 7, 8, 9]])\n",
        "# save to csv file\n",
        "savetxt('VGG_TSNE.csv', tsneAllImages, delimiter=',')"
      ],
      "execution_count": null,
      "outputs": []
    },
    {
      "cell_type": "code",
      "metadata": {
        "id": "FOQEKgVhKvxP"
      },
      "source": [
        "\n",
        "# load numpy array from csv file\n",
        "from numpy import loadtxt\n",
        "# load array\n",
        "tsneAllImages = loadtxt('VGG_TSNE.csv', delimiter=',')\n",
        "# print the array\n",
        "print(tsneAllImages)"
      ],
      "execution_count": null,
      "outputs": []
    },
    {
      "cell_type": "code",
      "metadata": {
        "colab": {
          "base_uri": "https://localhost:8080/"
        },
        "id": "igHPv_zBh6hI",
        "outputId": "7e8c3da9-f5fa-46b6-cf4d-d665fc9b9ee2"
      },
      "source": [
        "v1=ImgPred[0:30,:,:,:]\n",
        "v2=ImgPred[30:60,:,:,:]\n",
        "v3=ImgPred[30:60,:,:,:]\n",
        "v4=ImgPred[30:60,:,:,:]\n",
        "v5=ImgPred[30:60,:,:,:]\n",
        "v1.shape"
      ],
      "execution_count": null,
      "outputs": [
        {
          "output_type": "execute_result",
          "data": {
            "text/plain": [
              "(30, 8, 8, 512)"
            ]
          },
          "metadata": {
            "tags": []
          },
          "execution_count": 22
        }
      ]
    },
    {
      "cell_type": "markdown",
      "metadata": {
        "id": "GO5r-Wh6pMLt"
      },
      "source": [
        "FID"
      ]
    },
    {
      "cell_type": "code",
      "metadata": {
        "id": "srRjE5repLk3"
      },
      "source": [
        "# example of calculating the frechet inception distance\n",
        "import numpy\n",
        "from numpy import cov\n",
        "from numpy import trace\n",
        "from numpy import iscomplexobj\n",
        "from numpy.random import random\n",
        "from scipy.linalg import sqrtm\n",
        " \n",
        "# calculate frechet inception distance\n",
        "def calculate_fid(act1, act2):\n",
        "\t# calculate mean and covariance statistics\n",
        "\tmu1, sigma1 = act1.mean(axis=0), cov(act1, rowvar=False)\n",
        "\tmu2, sigma2 = act2.mean(axis=0), cov(act2, rowvar=False)\n",
        "\t# calculate sum squared difference between means\n",
        "\tssdiff = numpy.sum((mu1 - mu2)**2.0)\n",
        "\t# calculate sqrt of product between cov\n",
        "\tcovmean = sqrtm(sigma1.dot(sigma2))\n",
        "\t# check and correct imaginary numbers from sqrt\n",
        "\tif iscomplexobj(covmean):\n",
        "\t\tcovmean = covmean.real\n",
        "\t# calculate score\n",
        "\tfid = ssdiff + trace(sigma1 + sigma2 - 2.0 * covmean)\n",
        "\treturn fid\n",
        " \n"
      ],
      "execution_count": null,
      "outputs": []
    },
    {
      "cell_type": "code",
      "metadata": {
        "colab": {
          "base_uri": "https://localhost:8080/"
        },
        "id": "Nz20r0QrxZI_",
        "outputId": "1961494e-95ef-41e1-9d5e-7d1ef5b54fe9"
      },
      "source": [
        "# define two collections of activations\n",
        "act1 = random(30*7000)\n",
        "act1 = act1.reshape((30,7000))\n",
        "act2 = random(30*7000)\n",
        "act2 = act2.reshape((30,7000))\n",
        "# fid between act1 and act1\n",
        "fid = calculate_fid(act1, act1)\n",
        "print('FID (same): %.3f' % fid)\n",
        "# fid between act1 and act2\n",
        "fid = calculate_fid(act1, act2)\n",
        "print('FID (different): %.3f' % fid)"
      ],
      "execution_count": null,
      "outputs": [
        {
          "output_type": "stream",
          "text": [
            "FID (same): -0.001\n",
            "FID (different): 1142.155\n"
          ],
          "name": "stdout"
        }
      ]
    },
    {
      "cell_type": "code",
      "metadata": {
        "colab": {
          "base_uri": "https://localhost:8080/"
        },
        "id": "xGCyQ0kd2h1p",
        "outputId": "6d36835b-5aad-41c7-9287-4b46fda9774d"
      },
      "source": [
        "from sklearn.manifold import TSNE\n",
        "\n",
        "#tsneAllImages = TSNE(n_components=700,method='exact').fit_transform( ImgPred.reshape(300,-1))\n",
        "tsneAllImages = TSNE(n_components=7000,method='exact').fit_transform( ImgPred.reshape(300,-1))\n",
        "print(tsneAllImages.shape)\n"
      ],
      "execution_count": null,
      "outputs": [
        {
          "output_type": "stream",
          "text": [
            "(300, 7000)\n"
          ],
          "name": "stdout"
        }
      ]
    },
    {
      "cell_type": "code",
      "metadata": {
        "colab": {
          "base_uri": "https://localhost:8080/"
        },
        "id": "j_NPRcnM_bAX",
        "outputId": "b2b87c14-b835-43dc-e3f0-f4e3e1b2cd62"
      },
      "source": [
        "tsneV1_Images=tsneAllImages[0:30,:]\n",
        "tsneV2_Images=tsneAllImages[30:60,:]\n",
        "\n",
        "tsneV1_Images.shape"
      ],
      "execution_count": null,
      "outputs": [
        {
          "output_type": "execute_result",
          "data": {
            "text/plain": [
              "(30, 7000)"
            ]
          },
          "metadata": {
            "tags": []
          },
          "execution_count": 44
        }
      ]
    },
    {
      "cell_type": "code",
      "metadata": {
        "id": "PE6PK0yh-7B0"
      },
      "source": [
        "tsneV1_Images = TSNE(n_components=700,method='exact').fit_transform( v1.reshape(30,-1))\n",
        "#tsneV1_Images = TSNE(n_components=3).fit_transform( v1.reshape(30,-1))\n",
        "print(tsneV1_Images.shape)\n",
        "tsneV2_Images = TSNE(n_components=700,method='exact').fit_transform( v2.reshape(30,-1))\n",
        "#tsneV2_Images = TSNE(n_components=3).fit_transform( v2.reshape(30,-1))\n",
        "print(tsneV2_Images.shape)"
      ],
      "execution_count": null,
      "outputs": []
    },
    {
      "cell_type": "code",
      "metadata": {
        "colab": {
          "background_save": true,
          "base_uri": "https://localhost:8080/"
        },
        "id": "-T72rYIf7Dj1",
        "outputId": "eabfa934-3930-4d1d-e4bc-31dd44cd8652"
      },
      "source": [
        "fid = calculate_fid(tsneAllImages, tsneAllImages)\n",
        "print('FID (same): %.3f' % fid)\n",
        "\n",
        "fid = calculate_fid(tsneAllImages, tsneV1_Images)\n",
        "print('FID (different): %.3f' % fid)\n",
        "\n",
        "fid = calculate_fid(tsneAllImages, tsneV2_Images)\n",
        "print('FID (different): %.3f' % fid)"
      ],
      "execution_count": null,
      "outputs": [
        {
          "output_type": "stream",
          "text": [
            "FID (same): -0.002\n",
            "FID (different): 422.071\n",
            "FID (different): 411.075\n"
          ],
          "name": "stdout"
        }
      ]
    },
    {
      "cell_type": "code",
      "metadata": {
        "id": "8NNAIFv4pRz6"
      },
      "source": [
        "\n",
        "\n",
        "v1 = v1.reshape((30,32768))\n",
        "v2 = v2.reshape((30,32768))\n",
        "fid = calculate_fid(v1, v1)\n",
        "print('FID (same): %.3f' % fid)\n",
        "\n",
        "fid = calculate_fid(v1, v2)\n",
        "print('FID (different): %.3f' % fid)"
      ],
      "execution_count": null,
      "outputs": []
    },
    {
      "cell_type": "markdown",
      "metadata": {
        "id": "zuoyhN_8iCwv"
      },
      "source": [
        "TSNE + CLUSTERING"
      ]
    },
    {
      "cell_type": "code",
      "metadata": {
        "colab": {
          "base_uri": "https://localhost:8080/"
        },
        "id": "0iADR2ZWD8-X",
        "outputId": "bda9b69a-30e4-4b92-b718-bb542a2303d3"
      },
      "source": [
        "from sklearn.manifold import TSNE\n",
        "\n",
        "\n",
        "tsne = TSNE(n_components=2).fit_transform( ImgPred.reshape(300,-1))\n",
        "tsne.shape"
      ],
      "execution_count": null,
      "outputs": [
        {
          "output_type": "execute_result",
          "data": {
            "text/plain": [
              "(300, 2)"
            ]
          },
          "metadata": {
            "tags": []
          },
          "execution_count": 11
        }
      ]
    },
    {
      "cell_type": "code",
      "metadata": {
        "id": "oVvdE8KREGIP"
      },
      "source": [
        "from sklearn.cluster import KMeans\n",
        "import collections"
      ],
      "execution_count": null,
      "outputs": []
    },
    {
      "cell_type": "code",
      "metadata": {
        "colab": {
          "base_uri": "https://localhost:8080/"
        },
        "id": "RIZlRWRGEJAQ",
        "outputId": "6f16d357-7635-4f74-ff81-cf6636f15376"
      },
      "source": [
        "kmeans = KMeans(n_clusters=30).fit(tsne)\n",
        "collections.Counter(kmeans.labels_)"
      ],
      "execution_count": null,
      "outputs": [
        {
          "output_type": "execute_result",
          "data": {
            "text/plain": [
              "Counter({0: 19,\n",
              "         1: 11,\n",
              "         2: 13,\n",
              "         3: 9,\n",
              "         4: 7,\n",
              "         5: 7,\n",
              "         6: 22,\n",
              "         7: 7,\n",
              "         8: 13,\n",
              "         9: 10,\n",
              "         10: 7,\n",
              "         11: 20,\n",
              "         12: 6,\n",
              "         13: 4,\n",
              "         14: 7,\n",
              "         15: 10,\n",
              "         16: 5,\n",
              "         17: 4,\n",
              "         18: 9,\n",
              "         19: 8,\n",
              "         20: 9,\n",
              "         21: 11,\n",
              "         22: 14,\n",
              "         23: 5,\n",
              "         24: 3,\n",
              "         25: 14,\n",
              "         26: 8,\n",
              "         27: 15,\n",
              "         28: 11,\n",
              "         29: 12})"
            ]
          },
          "metadata": {
            "tags": []
          },
          "execution_count": 13
        }
      ]
    },
    {
      "cell_type": "code",
      "metadata": {
        "colab": {
          "base_uri": "https://localhost:8080/"
        },
        "id": "HQ6w5dXZELTl",
        "outputId": "59af552c-e463-4775-ecc5-36bd78970ae3"
      },
      "source": [
        "select=[]\n",
        "for i in range (30):\n",
        "  select.append(np.nonzero(kmeans.labels_ == i)[0][0])\n",
        "select"
      ],
      "execution_count": null,
      "outputs": [
        {
          "output_type": "execute_result",
          "data": {
            "text/plain": [
              "[10,\n",
              " 29,\n",
              " 9,\n",
              " 7,\n",
              " 3,\n",
              " 75,\n",
              " 4,\n",
              " 40,\n",
              " 14,\n",
              " 57,\n",
              " 8,\n",
              " 11,\n",
              " 32,\n",
              " 2,\n",
              " 45,\n",
              " 41,\n",
              " 13,\n",
              " 97,\n",
              " 17,\n",
              " 6,\n",
              " 1,\n",
              " 26,\n",
              " 27,\n",
              " 109,\n",
              " 34,\n",
              " 0,\n",
              " 115,\n",
              " 20,\n",
              " 15,\n",
              " 37]"
            ]
          },
          "metadata": {
            "tags": []
          },
          "execution_count": 14
        }
      ]
    },
    {
      "cell_type": "markdown",
      "metadata": {
        "id": "9x9B6at9EMCs"
      },
      "source": [
        "AutoEnc Base VGG"
      ]
    }
  ]
}