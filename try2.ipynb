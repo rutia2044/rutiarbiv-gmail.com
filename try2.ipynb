{
  "nbformat": 4,
  "nbformat_minor": 0,
  "metadata": {
    "accelerator": "GPU",
    "colab": {
      "name": "VGG_imagnet.ipynb",
      "provenance": [],
      "collapsed_sections": [],
      "include_colab_link": true
    },
    "kernelspec": {
      "display_name": "Python 3",
      "name": "python3"
    },
    "language_info": {
      "name": "python"
    }
  },
  "cells": [
    {
      "cell_type": "markdown",
      "metadata": {
        "id": "view-in-github",
        "colab_type": "text"
      },
      "source": [
        "<a href=\"https://colab.research.google.com/github/rutia2044/rutiarbiv-gmail.com/blob/master/try2.ipynb\" target=\"_parent\"><img src=\"https://colab.research.google.com/assets/colab-badge.svg\" alt=\"Open In Colab\"/></a>"
      ]
    },
    {
      "cell_type": "code",
      "metadata": {
        "colab": {
          "base_uri": "https://localhost:8080/"
        },
        "id": "d1pIZ8_TB0g9",
        "outputId": "205e78d3-c322-4d7a-85c9-50a603d5b52c"
      },
      "source": [
        "from google.colab import drive\n",
        "drive.mount('/content/drive')"
      ],
      "execution_count": 1,
      "outputs": [
        {
          "output_type": "stream",
          "text": [
            "Mounted at /content/drive\n"
          ],
          "name": "stdout"
        }
      ]
    },
    {
      "cell_type": "code",
      "metadata": {
        "id": "cEQPbjVPDhFP"
      },
      "source": [
        "import numpy as np\n",
        " \n",
        "import torchvision.transforms as transforms\n",
        "from torchvision.utils import make_grid\n",
        " \n",
        "from torch.utils.data import DataLoader\n",
        "from torchvision import datasets\n",
        "from torch.autograd import Variable\n",
        " \n",
        "import torch.nn as nn\n",
        "import torch.nn.functional as F\n",
        "import torch\n",
        " \n",
        "import os\n",
        "import glob\n",
        " \n",
        "import matplotlib.pyplot as plt\n",
        "from tqdm.notebook import tqdm\n",
        "import warnings\n",
        "from tensorflow import keras,summary\n"
      ],
      "execution_count": 2,
      "outputs": []
    },
    {
      "cell_type": "code",
      "metadata": {
        "id": "6ygy6Sa2CPqt"
      },
      "source": [
        "#import numpy as np\n",
        "#import matplotlib.pyplot as plt\n",
        "from tqdm import tqdm\n",
        "import os\n",
        "from keras.applications.vgg16 import VGG16\n",
        "\n",
        "#from keras import models, layers,applications\n"
      ],
      "execution_count": null,
      "outputs": []
    },
    {
      "cell_type": "code",
      "metadata": {
        "colab": {
          "base_uri": "https://localhost:8080/"
        },
        "id": "wynBkqLqCSVZ",
        "outputId": "e0a34848-8079-43ce-e39e-45a4d96f9ca9"
      },
      "source": [
        "images = []\n",
        "root = '/content/drive/MyDrive/gan-getting-started/monet_jpg'\n",
        "for file in tqdm(os.listdir(root)):\n",
        "    images.append(plt.imread(root+'/'+file))\n",
        "images = np.array(images)"
      ],
      "execution_count": null,
      "outputs": [
        {
          "output_type": "stream",
          "text": [
            "100%|██████████| 300/300 [00:00<00:00, 413.26it/s]\n"
          ],
          "name": "stderr"
        }
      ]
    },
    {
      "cell_type": "code",
      "metadata": {
        "id": "3pJSM2wCCWOB"
      },
      "source": [
        "images = images/255"
      ],
      "execution_count": null,
      "outputs": []
    },
    {
      "cell_type": "code",
      "metadata": {
        "colab": {
          "base_uri": "https://localhost:8080/"
        },
        "id": "p6j8G5U6OSCz",
        "outputId": "72d7ce5f-6ace-413b-966a-5058b6df41cb"
      },
      "source": [
        "print(images[0][0][0][0])"
      ],
      "execution_count": null,
      "outputs": [
        {
          "output_type": "stream",
          "text": [
            "0.6980392156862745\n"
          ],
          "name": "stdout"
        }
      ]
    },
    {
      "cell_type": "code",
      "metadata": {
        "colab": {
          "base_uri": "https://localhost:8080/"
        },
        "id": "m6464ntODT29",
        "outputId": "d1d21ae1-d452-4d63-aeb8-541c2535617b"
      },
      "source": [
        "\n",
        "#Encoder\n",
        "\n",
        "EncoderBaseModel = VGG16(include_top=False,input_shape=(256, 256, 3),weights='imagenet')\n",
        "EncoderBaseModel.summary()"
      ],
      "execution_count": null,
      "outputs": [
        {
          "output_type": "stream",
          "text": [
            "Model: \"vgg16\"\n",
            "_________________________________________________________________\n",
            "Layer (type)                 Output Shape              Param #   \n",
            "=================================================================\n",
            "input_2 (InputLayer)         [(None, 256, 256, 3)]     0         \n",
            "_________________________________________________________________\n",
            "block1_conv1 (Conv2D)        (None, 256, 256, 64)      1792      \n",
            "_________________________________________________________________\n",
            "block1_conv2 (Conv2D)        (None, 256, 256, 64)      36928     \n",
            "_________________________________________________________________\n",
            "block1_pool (MaxPooling2D)   (None, 128, 128, 64)      0         \n",
            "_________________________________________________________________\n",
            "block2_conv1 (Conv2D)        (None, 128, 128, 128)     73856     \n",
            "_________________________________________________________________\n",
            "block2_conv2 (Conv2D)        (None, 128, 128, 128)     147584    \n",
            "_________________________________________________________________\n",
            "block2_pool (MaxPooling2D)   (None, 64, 64, 128)       0         \n",
            "_________________________________________________________________\n",
            "block3_conv1 (Conv2D)        (None, 64, 64, 256)       295168    \n",
            "_________________________________________________________________\n",
            "block3_conv2 (Conv2D)        (None, 64, 64, 256)       590080    \n",
            "_________________________________________________________________\n",
            "block3_conv3 (Conv2D)        (None, 64, 64, 256)       590080    \n",
            "_________________________________________________________________\n",
            "block3_pool (MaxPooling2D)   (None, 32, 32, 256)       0         \n",
            "_________________________________________________________________\n",
            "block4_conv1 (Conv2D)        (None, 32, 32, 512)       1180160   \n",
            "_________________________________________________________________\n",
            "block4_conv2 (Conv2D)        (None, 32, 32, 512)       2359808   \n",
            "_________________________________________________________________\n",
            "block4_conv3 (Conv2D)        (None, 32, 32, 512)       2359808   \n",
            "_________________________________________________________________\n",
            "block4_pool (MaxPooling2D)   (None, 16, 16, 512)       0         \n",
            "_________________________________________________________________\n",
            "block5_conv1 (Conv2D)        (None, 16, 16, 512)       2359808   \n",
            "_________________________________________________________________\n",
            "block5_conv2 (Conv2D)        (None, 16, 16, 512)       2359808   \n",
            "_________________________________________________________________\n",
            "block5_conv3 (Conv2D)        (None, 16, 16, 512)       2359808   \n",
            "_________________________________________________________________\n",
            "block5_pool (MaxPooling2D)   (None, 8, 8, 512)         0         \n",
            "=================================================================\n",
            "Total params: 14,714,688\n",
            "Trainable params: 14,714,688\n",
            "Non-trainable params: 0\n",
            "_________________________________________________________________\n"
          ],
          "name": "stdout"
        }
      ]
    },
    {
      "cell_type": "code",
      "metadata": {
        "colab": {
          "base_uri": "https://localhost:8080/"
        },
        "id": "9QcKjKf9D0oE",
        "outputId": "95e81c30-0155-46a2-d9ec-f9c805af1aa6"
      },
      "source": [
        "ImgPred = EncoderBaseModel.predict(images)\n",
        "ImgPred.shape"
      ],
      "execution_count": null,
      "outputs": [
        {
          "output_type": "execute_result",
          "data": {
            "text/plain": [
              "(300, 8, 8, 512)"
            ]
          },
          "metadata": {
            "tags": []
          },
          "execution_count": 23
        }
      ]
    },
    {
      "cell_type": "code",
      "metadata": {
        "id": "71Pv8KiV5Qsn",
        "colab": {
          "base_uri": "https://localhost:8080/"
        },
        "outputId": "04691106-581b-4c44-fae4-dca59eea995d"
      },
      "source": [
        "from sklearn.manifold import TSNE\n",
        "\n",
        "#tsneAllImages = TSNE(n_components=700).fit_transform( ImgPred.reshape(300,-1))\n",
        "tsneAllImages = TSNE(n_components=700,method='exact').fit_transform( ImgPred.reshape(300,-1))\n",
        "print(tsneAllImages.shape)"
      ],
      "execution_count": null,
      "outputs": [
        {
          "output_type": "stream",
          "text": [
            "(300, 700)\n"
          ],
          "name": "stdout"
        }
      ]
    },
    {
      "cell_type": "code",
      "metadata": {
        "id": "pwwk_2sUKZf1"
      },
      "source": [
        "\n",
        "# save numpy array as csv file\n",
        "#from numpy import asarray\n",
        "from numpy import savetxt\n",
        "# define data\n",
        "#data = asarray([[0, 1, 2, 3, 4, 5, 6, 7, 8, 9]])\n",
        "# save to csv file\n",
        "savetxt('VGG_TSNE.csv', tsneAllImages, delimiter=',')"
      ],
      "execution_count": null,
      "outputs": []
    },
    {
      "cell_type": "code",
      "metadata": {
        "id": "FOQEKgVhKvxP"
      },
      "source": [
        "\n",
        "# load numpy array from csv file\n",
        "from numpy import loadtxt\n",
        "# load array\n",
        "tsneAllImages = loadtxt('VGG_TSNE.csv', delimiter=',')\n",
        "# print the array\n",
        "print(tsneAllImages)"
      ],
      "execution_count": null,
      "outputs": []
    },
    {
      "cell_type": "code",
      "metadata": {
        "colab": {
          "base_uri": "https://localhost:8080/"
        },
        "id": "igHPv_zBh6hI",
        "outputId": "6e1e4497-7ab7-4356-cfc8-e55be6b20a63"
      },
      "source": [
        "v1=ImgPred[0:30,:,:,:]\n",
        "v2=ImgPred[30:60,:,:,:]\n",
        "v3=ImgPred[30:60,:,:,:]\n",
        "v4=ImgPred[30:60,:,:,:]\n",
        "v5=ImgPred[30:60,:,:,:]\n",
        "v1.shape"
      ],
      "execution_count": null,
      "outputs": [
        {
          "output_type": "execute_result",
          "data": {
            "text/plain": [
              "(30, 8, 8, 512)"
            ]
          },
          "metadata": {
            "tags": []
          },
          "execution_count": 27
        }
      ]
    },
    {
      "cell_type": "markdown",
      "metadata": {
        "id": "GO5r-Wh6pMLt"
      },
      "source": [
        "FID"
      ]
    },
    {
      "cell_type": "code",
      "metadata": {
        "id": "srRjE5repLk3"
      },
      "source": [
        "# example of calculating the frechet inception distance\n",
        "import numpy\n",
        "from numpy import cov\n",
        "from numpy import trace\n",
        "from numpy import iscomplexobj\n",
        "from numpy.random import random\n",
        "from scipy.linalg import sqrtm\n",
        " \n",
        "# calculate frechet inception distance\n",
        "def calculate_fid(act1, act2):\n",
        "\t# calculate mean and covariance statistics\n",
        "\tmu1, sigma1 = act1.mean(axis=0), cov(act1, rowvar=False)\n",
        "\tmu2, sigma2 = act2.mean(axis=0), cov(act2, rowvar=False)\n",
        "\t# calculate sum squared difference between means\n",
        "\tssdiff = numpy.sum((mu1 - mu2)**2.0)\n",
        "\t# calculate sqrt of product between cov\n",
        "\tcovmean = sqrtm(sigma1.dot(sigma2))\n",
        "\t# check and correct imaginary numbers from sqrt\n",
        "\tif iscomplexobj(covmean):\n",
        "\t\tcovmean = covmean.real\n",
        "\t# calculate score\n",
        "\tfid = ssdiff + trace(sigma1 + sigma2 - 2.0 * covmean)\n",
        "\treturn fid\n",
        " \n"
      ],
      "execution_count": null,
      "outputs": []
    },
    {
      "cell_type": "code",
      "metadata": {
        "colab": {
          "base_uri": "https://localhost:8080/"
        },
        "id": "Nz20r0QrxZI_",
        "outputId": "1961494e-95ef-41e1-9d5e-7d1ef5b54fe9"
      },
      "source": [
        "# define two collections of activations\n",
        "act1 = random(30*7000)\n",
        "act1 = act1.reshape((30,7000))\n",
        "act2 = random(30*7000)\n",
        "act2 = act2.reshape((30,7000))\n",
        "# fid between act1 and act1\n",
        "fid = calculate_fid(act1, act1)\n",
        "print('FID (same): %.3f' % fid)\n",
        "# fid between act1 and act2\n",
        "fid = calculate_fid(act1, act2)\n",
        "print('FID (different): %.3f' % fid)"
      ],
      "execution_count": null,
      "outputs": [
        {
          "output_type": "stream",
          "text": [
            "FID (same): -0.001\n",
            "FID (different): 1142.155\n"
          ],
          "name": "stdout"
        }
      ]
    },
    {
      "cell_type": "code",
      "metadata": {
        "colab": {
          "base_uri": "https://localhost:8080/"
        },
        "id": "xGCyQ0kd2h1p",
        "outputId": "6d36835b-5aad-41c7-9287-4b46fda9774d"
      },
      "source": [
        "from sklearn.manifold import TSNE\n",
        "\n",
        "#tsneAllImages = TSNE(n_components=700,method='exact').fit_transform( ImgPred.reshape(300,-1))\n",
        "tsneAllImages = TSNE(n_components=7000,method='exact').fit_transform( ImgPred.reshape(300,-1))\n",
        "print(tsneAllImages.shape)\n"
      ],
      "execution_count": null,
      "outputs": [
        {
          "output_type": "stream",
          "text": [
            "(300, 7000)\n"
          ],
          "name": "stdout"
        }
      ]
    },
    {
      "cell_type": "code",
      "metadata": {
        "colab": {
          "base_uri": "https://localhost:8080/"
        },
        "id": "j_NPRcnM_bAX",
        "outputId": "72e64ffa-e978-4868-e63a-7f72101ac0c2"
      },
      "source": [
        "print(tsneAllImages.shape)\n",
        "tsneV1_Images=tsneAllImages[98:128,:]\n",
        "tsneV2_Images=tsneAllImages[95:125,:]\n",
        "selectTSNE=tsneAllImages[90:120,:]\n",
        "\n",
        "print(tsneV1_Images.shape)\n",
        "print(tsneV2_Images.shape)\n",
        "print(selectTSNE.shape)"
      ],
      "execution_count": null,
      "outputs": [
        {
          "output_type": "stream",
          "text": [
            "(300, 700)\n",
            "(30, 700)\n",
            "(30, 700)\n",
            "(30, 700)\n"
          ],
          "name": "stdout"
        }
      ]
    },
    {
      "cell_type": "code",
      "metadata": {
        "id": "PE6PK0yh-7B0"
      },
      "source": [
        "tsneV1_Images = TSNE(n_components=700,method='exact').fit_transform( v1.reshape(30,-1))\n",
        "#tsneV1_Images = TSNE(n_components=3).fit_transform( v1.reshape(30,-1))\n",
        "print(tsneV1_Images.shape)\n",
        "tsneV2_Images = TSNE(n_components=700,method='exact').fit_transform( v2.reshape(30,-1))\n",
        "#tsneV2_Images = TSNE(n_components=3).fit_transform( v2.reshape(30,-1))\n",
        "print(tsneV2_Images.shape)"
      ],
      "execution_count": null,
      "outputs": []
    },
    {
      "cell_type": "code",
      "metadata": {
        "id": "6A7B-GL-71ec"
      },
      "source": [
        "minIndexesFid=[ 79 ,233 ,252 ,271 , 33, 181, 162 ,142 , 38 ,288, 198 ,227 ,106, 176 ,288 ,163, 148, 282,\n",
        " 230 ,127  , 4, 227 ,209 , 33 ,223 , 44 ,243, 222, 259 , 80]\n",
        "aa=np.asarray(minIndexesFid)"
      ],
      "execution_count": null,
      "outputs": []
    },
    {
      "cell_type": "code",
      "metadata": {
        "colab": {
          "base_uri": "https://localhost:8080/"
        },
        "id": "HrCP-Fcx-MoH",
        "outputId": "7d8958cb-914b-44ba-e2e4-1756c260b75b"
      },
      "source": [
        " TSNEminIndexesFid=tsneAllImages[aa,:]\n",
        "fid = calculate_fid(tsneAllImages, TSNEminIndexesFid)\n",
        "print('FID (different): %.3f' % fid)\n",
        "print(TSNEminIndexesFid.shape)"
      ],
      "execution_count": null,
      "outputs": [
        {
          "output_type": "stream",
          "text": [
            "FID (different): 122.463\n",
            "(30, 700)\n"
          ],
          "name": "stdout"
        }
      ]
    },
    {
      "cell_type": "code",
      "metadata": {
        "colab": {
          "base_uri": "https://localhost:8080/"
        },
        "id": "-T72rYIf7Dj1",
        "outputId": "d53db3f7-6de7-4b5c-fe60-a5c41715d85b"
      },
      "source": [
        "fid = calculate_fid(tsneAllImages, tsneV1_Images)\n",
        "print('FID (same): %.3f' % fid)\n",
        "\n",
        "fid = calculate_fid(tsneAllImages, tsneV2_Images)\n",
        "print('FID (different): %.3f' % fid)\n",
        "\n",
        "fid = calculate_fid(tsneAllImages, selectTSNE)\n",
        "print('FID (different): %.3f' % fid)"
      ],
      "execution_count": null,
      "outputs": [
        {
          "output_type": "stream",
          "text": [
            "FID (same): 130.240\n",
            "FID (different): 153.782\n",
            "FID (different): 161.074\n"
          ],
          "name": "stdout"
        }
      ]
    },
    {
      "cell_type": "code",
      "metadata": {
        "colab": {
          "base_uri": "https://localhost:8080/"
        },
        "id": "hRCHVu_v2ZOw",
        "outputId": "d82826d0-63d3-4117-d0dc-5c37938620f0"
      },
      "source": [
        "#rand 100 vectors of 30 indexs\n",
        "min=124\n",
        "for number in range(1000):   \n",
        "    rndArr=np.random.choice(300, 30)\n",
        "    selectTSNE=tsneAllImages[rndArr,:]\n",
        "    fid = calculate_fid(tsneAllImages, selectTSNE)   \n",
        "    if fid < min:\n",
        "       print('FID (different): %.3f' % fid)\n",
        "       min=fid\n",
        "       minIndx= rndArr\n",
        "print('Min---FID (different): %.3f' % min)\n",
        "print(minIndx)"
      ],
      "execution_count": null,
      "outputs": [
        {
          "output_type": "stream",
          "text": [
            "FID (different): 121.143\n",
            "FID (different): 119.423\n",
            "FID (different): 117.635\n"
          ],
          "name": "stdout"
        }
      ]
    },
    {
      "cell_type": "code",
      "metadata": {
        "id": "8NNAIFv4pRz6"
      },
      "source": [
        "\n",
        "\n",
        "v1 = v1.reshape((30,32768))\n",
        "v2 = v2.reshape((30,32768))\n",
        "fid = calculate_fid(v1, v1)\n",
        "print('FID (same): %.3f' % fid)\n",
        "\n",
        "fid = calculate_fid(v1, v2)\n",
        "print('FID (different): %.3f' % fid)"
      ],
      "execution_count": null,
      "outputs": []
    },
    {
      "cell_type": "markdown",
      "metadata": {
        "id": "zuoyhN_8iCwv"
      },
      "source": [
        "TSNE + CLUSTERING"
      ]
    },
    {
      "cell_type": "code",
      "metadata": {
        "colab": {
          "base_uri": "https://localhost:8080/"
        },
        "id": "0iADR2ZWD8-X",
        "outputId": "bda9b69a-30e4-4b92-b718-bb542a2303d3"
      },
      "source": [
        "from sklearn.manifold import TSNE\n",
        "\n",
        "\n",
        "tsneAllImages = TSNE(n_components=2).fit_transform( ImgPred.reshape(300,-1))\n",
        "tsneAllImages.shape"
      ],
      "execution_count": null,
      "outputs": [
        {
          "output_type": "execute_result",
          "data": {
            "text/plain": [
              "(300, 2)"
            ]
          },
          "metadata": {
            "tags": []
          },
          "execution_count": 11
        }
      ]
    },
    {
      "cell_type": "code",
      "metadata": {
        "id": "oVvdE8KREGIP"
      },
      "source": [
        "from sklearn.cluster import KMeans\n",
        "import collections"
      ],
      "execution_count": null,
      "outputs": []
    },
    {
      "cell_type": "code",
      "metadata": {
        "colab": {
          "base_uri": "https://localhost:8080/"
        },
        "id": "RIZlRWRGEJAQ",
        "outputId": "edc5bc23-c249-4e77-b46a-5e10286dfef2"
      },
      "source": [
        "kmeans = KMeans(n_clusters=30).fit(tsneAllImages)\n",
        "collections.Counter(kmeans.labels_)"
      ],
      "execution_count": null,
      "outputs": [
        {
          "output_type": "execute_result",
          "data": {
            "text/plain": [
              "Counter({0: 1,\n",
              "         1: 10,\n",
              "         2: 21,\n",
              "         3: 2,\n",
              "         4: 1,\n",
              "         5: 1,\n",
              "         6: 83,\n",
              "         7: 1,\n",
              "         8: 1,\n",
              "         9: 1,\n",
              "         10: 1,\n",
              "         11: 1,\n",
              "         12: 1,\n",
              "         13: 23,\n",
              "         14: 1,\n",
              "         15: 1,\n",
              "         16: 1,\n",
              "         17: 1,\n",
              "         18: 1,\n",
              "         19: 1,\n",
              "         20: 16,\n",
              "         21: 19,\n",
              "         22: 30,\n",
              "         23: 1,\n",
              "         24: 1,\n",
              "         25: 25,\n",
              "         26: 21,\n",
              "         27: 17,\n",
              "         28: 1,\n",
              "         29: 15})"
            ]
          },
          "metadata": {
            "tags": []
          },
          "execution_count": 34
        }
      ]
    },
    {
      "cell_type": "code",
      "metadata": {
        "colab": {
          "base_uri": "https://localhost:8080/"
        },
        "id": "HQ6w5dXZELTl",
        "outputId": "444d4924-1885-4602-9f74-3ea2fe639300"
      },
      "source": [
        "select=[]\n",
        "for i in range (30):\n",
        "  select.append(np.nonzero(kmeans.labels_ == i)[0][0])\n",
        "select"
      ],
      "execution_count": null,
      "outputs": [
        {
          "output_type": "execute_result",
          "data": {
            "text/plain": [
              "[113,\n",
              " 101,\n",
              " 2,\n",
              " 150,\n",
              " 279,\n",
              " 254,\n",
              " 3,\n",
              " 280,\n",
              " 32,\n",
              " 95,\n",
              " 249,\n",
              " 157,\n",
              " 234,\n",
              " 1,\n",
              " 115,\n",
              " 285,\n",
              " 196,\n",
              " 175,\n",
              " 220,\n",
              " 231,\n",
              " 24,\n",
              " 29,\n",
              " 0,\n",
              " 215,\n",
              " 149,\n",
              " 4,\n",
              " 9,\n",
              " 7,\n",
              " 97,\n",
              " 22]"
            ]
          },
          "metadata": {
            "tags": []
          },
          "execution_count": 35
        }
      ]
    },
    {
      "cell_type": "code",
      "metadata": {
        "colab": {
          "base_uri": "https://localhost:8080/"
        },
        "id": "qS8yZGbayX4G",
        "outputId": "51a7834c-9375-4341-c011-677d3901cae1"
      },
      "source": [
        "select"
      ],
      "execution_count": null,
      "outputs": [
        {
          "output_type": "execute_result",
          "data": {
            "text/plain": [
              "[113,\n",
              " 101,\n",
              " 2,\n",
              " 150,\n",
              " 279,\n",
              " 254,\n",
              " 3,\n",
              " 280,\n",
              " 32,\n",
              " 95,\n",
              " 249,\n",
              " 157,\n",
              " 234,\n",
              " 1,\n",
              " 115,\n",
              " 285,\n",
              " 196,\n",
              " 175,\n",
              " 220,\n",
              " 231,\n",
              " 24,\n",
              " 29,\n",
              " 0,\n",
              " 215,\n",
              " 149,\n",
              " 4,\n",
              " 9,\n",
              " 7,\n",
              " 97,\n",
              " 22]"
            ]
          },
          "metadata": {
            "tags": []
          },
          "execution_count": 139
        }
      ]
    },
    {
      "cell_type": "code",
      "metadata": {
        "colab": {
          "base_uri": "https://localhost:8080/"
        },
        "id": "U2Rn4qSxyunW",
        "outputId": "82df952f-1376-411f-8615-0dd539ca971b"
      },
      "source": [
        "tsneAllImages[select].shape"
      ],
      "execution_count": null,
      "outputs": [
        {
          "output_type": "execute_result",
          "data": {
            "text/plain": [
              "(30, 700)"
            ]
          },
          "metadata": {
            "tags": []
          },
          "execution_count": 138
        }
      ]
    },
    {
      "cell_type": "code",
      "metadata": {
        "id": "owDR6JC8z1qn"
      },
      "source": [
        "#import numpy as np\n",
        "#import matplotlib.pyplot as plt\n",
        "from tqdm import tqdm\n",
        "import os\n",
        "import matplotlib.pyplot as plt\n",
        "import numpy as np"
      ],
      "execution_count": 14,
      "outputs": []
    },
    {
      "cell_type": "code",
      "metadata": {
        "id": "ReDuq0FGz8_I",
        "colab": {
          "base_uri": "https://localhost:8080/"
        },
        "outputId": "b85d0d3b-2022-4eb1-b185-03f30dc80937"
      },
      "source": [
        "images = []\n",
        "root = '/content/drive/MyDrive/gan-getting-started/monet_jpg'\n",
        "#root = 'sample_data/Monet'\n",
        "for file in tqdm(os.listdir(root)):\n",
        "    images.append(plt.imread(root+'/'+file))\n",
        "images = np.array(images)\n"
      ],
      "execution_count": 62,
      "outputs": [
        {
          "output_type": "stream",
          "text": [
            "100%|██████████| 300/300 [00:00<00:00, 335.16it/s]\n"
          ],
          "name": "stderr"
        }
      ]
    },
    {
      "cell_type": "code",
      "metadata": {
        "id": "vWqFKv-14Asc",
        "colab": {
          "base_uri": "https://localhost:8080/"
        },
        "outputId": "d9d7b0e9-8819-4ca4-b719-d0577602489c"
      },
      "source": [
        "images = images.astype('float32')\n",
        "print(images.shape)\n",
        "print(images[0][0][0][0])"
      ],
      "execution_count": 63,
      "outputs": [
        {
          "output_type": "stream",
          "text": [
            "(300, 256, 256, 3)\n",
            "178.0\n"
          ],
          "name": "stdout"
        }
      ]
    },
    {
      "cell_type": "code",
      "metadata": {
        "id": "69oHh5sM1E8C",
        "colab": {
          "base_uri": "https://localhost:8080/"
        },
        "outputId": "9df86ce7-7527-4418-ec99-5055aa064989"
      },
      "source": [
        "v1=images[0:30,:,:,:]\n",
        "v2=images[40:70,:,:,:]\n",
        "print(images.shape)\n",
        "print(v1[0][0][0][0])\n",
        "print(v2[0][0][0][0])"
      ],
      "execution_count": 68,
      "outputs": [
        {
          "output_type": "stream",
          "text": [
            "(300, 256, 256, 3)\n",
            "178.0\n",
            "169.0\n"
          ],
          "name": "stdout"
        }
      ]
    },
    {
      "cell_type": "code",
      "metadata": {
        "id": "iLNJd1ORUeju"
      },
      "source": [
        "# example of calculating the frechet inception distance in Keras\n",
        "import numpy\n",
        "from numpy import cov\n",
        "from numpy import trace\n",
        "from numpy import iscomplexobj\n",
        "from numpy import asarray\n",
        "from numpy.random import randint\n",
        "from scipy.linalg import sqrtm\n",
        "from keras.applications.inception_v3 import InceptionV3\n",
        "from keras.applications.inception_v3 import preprocess_input\n",
        "from keras.datasets.mnist import load_data\n",
        "from skimage.transform import resize\n",
        " \n",
        "# scale an array of images to a new size\n",
        "def scale_images(images, new_shape):\n",
        "\timages_list = list()\n",
        "\tfor image in images:\n",
        "\t\t# resize with nearest neighbor interpolation\n",
        "\t\tnew_image = resize(image, new_shape, 0)\n",
        "\t\t# store\n",
        "\t\timages_list.append(new_image)\n",
        "\treturn asarray(images_list)\n",
        " \n",
        "# calculate frechet inception distance\n",
        "def calculate_fid(model, act1, act2):\n",
        "\t# calculate activations\n",
        "\n",
        "\t# calculate mean and covariance statistics\n",
        "\tmu1, sigma1 = act1.mean(axis=0), cov(act1, rowvar=False)\n",
        "\tmu2, sigma2 = act2.mean(axis=0), cov(act2, rowvar=False)\n",
        "\t# calculate sum squared difference between means\n",
        "\tssdiff = numpy.sum((mu1 - mu2)**2.0)\n",
        "\t# calculate sqrt of product between cov\n",
        "\tcovmean = sqrtm(sigma1.dot(sigma2))\n",
        "\t# check and correct imaginary numbers from sqrt\n",
        "\tif iscomplexobj(covmean):\n",
        "\t\tcovmean = covmean.real\n",
        "\t# calculate score\n",
        "\tfid = ssdiff + trace(sigma1 + sigma2 - 2.0 * covmean)\n",
        "\treturn fid"
      ],
      "execution_count": 12,
      "outputs": []
    },
    {
      "cell_type": "code",
      "metadata": {
        "colab": {
          "base_uri": "https://localhost:8080/"
        },
        "id": "0U4If3WJUx4q",
        "outputId": "e659dd5f-e0c4-4db9-a248-20cfb0a6ed5d"
      },
      "source": [
        "images1 = preprocess_input(images.copy())\n",
        "  \n",
        "imagesV1 = preprocess_input(v1.copy())\n",
        "imagesV2 = preprocess_input(v2.copy())\n",
        "print(images1.shape)\n",
        "print(images1[0][0][0][0])\n",
        "print(imagesV1[0][0][0][0])\n",
        "print(imagesV2[0][0][0][0])\n",
        "# fid between images1 and images1\n",
        "#act1 = model.predict(images1)\n",
        "\n",
        "\n"
      ],
      "execution_count": 70,
      "outputs": [
        {
          "output_type": "stream",
          "text": [
            "(300, 256, 256, 3)\n",
            "0.39607847\n",
            "0.39607847\n",
            "0.32549024\n"
          ],
          "name": "stdout"
        }
      ]
    },
    {
      "cell_type": "code",
      "metadata": {
        "colab": {
          "base_uri": "https://localhost:8080/"
        },
        "id": "ELz8ZBHzgkCs",
        "outputId": "3b48cc5a-0b3e-4618-c735-82f14b429426"
      },
      "source": [
        "images1 = preprocess_input(images.copy())\n",
        "print(images1[0][0][0][0])"
      ],
      "execution_count": 75,
      "outputs": [
        {
          "output_type": "stream",
          "text": [
            "0.39607847\n"
          ],
          "name": "stdout"
        }
      ]
    },
    {
      "cell_type": "code",
      "metadata": {
        "colab": {
          "base_uri": "https://localhost:8080/"
        },
        "id": "kC_H2dcoV9V3",
        "outputId": "f9394ac2-167d-4c69-90f4-b97f8433a5cb"
      },
      "source": [
        "\n",
        "act1 = model.predict(images1)\n",
        "print(act1.shape)\n"
      ],
      "execution_count": 76,
      "outputs": [
        {
          "output_type": "stream",
          "text": [
            "(300, 2048)\n"
          ],
          "name": "stdout"
        }
      ]
    },
    {
      "cell_type": "code",
      "metadata": {
        "colab": {
          "base_uri": "https://localhost:8080/"
        },
        "id": "0ceMxAuqg8xb",
        "outputId": "a399d574-18fb-4e19-cf94-896991121df7"
      },
      "source": [
        "act2 = act1[0:30,]\n",
        "act3 = act1[40:70,]\n",
        "#print(mu1, sigma1)\n",
        "fid = calculate_fid(model,act1,act2)\n",
        "print('FID (v1): %.3f' % fid)\n",
        "print(act1[0][0])\n",
        "# fid between images1 and images2\n",
        "fid = calculate_fid(model,act1,act3)\n",
        "print('FID (v2): %.3f' % fid)\n",
        "print(act1[0][0])"
      ],
      "execution_count": 78,
      "outputs": [
        {
          "output_type": "stream",
          "text": [
            "FID (v1): 200.744\n",
            "0.38192022\n",
            "FID (v2): 207.772\n",
            "0.38192022\n"
          ],
          "name": "stdout"
        }
      ]
    },
    {
      "cell_type": "code",
      "metadata": {
        "id": "AuZC1yHi5BEb"
      },
      "source": [
        " \n",
        "# prepare the inception v3 model\n",
        "#model = InceptionV3(include_top=False, pooling='avg', input_shape=(256,256,3))\n",
        "# define two fake collections of images\n",
        "#images1 = randint(0, 255, 10*32*32*3)\n",
        "#images1 = images1.reshape((10,32,32,3))\n",
        "##images2 = randint(0, 255, 10*32*32*3)\n",
        "#images2 = images2.reshape((10,32,32,3))\n",
        "#print('Prepared', images1.shape, images2.shape)\n",
        "# convert integer to floating point values\n",
        "#images1 = images.astype('float32')\n",
        "#images2 = images.astype('float32')\n",
        "# resize images\n",
        "#images1 = scale_images(images1, (299,299,3))\n",
        "#images2 = scale_images(images2, (299,299,3))\n",
        "#print('Scaled', images1.shape, images2.shape)\n",
        "# pre-process images\n",
        "images1 = preprocess_input(images1)\n",
        "images2 = preprocess_input(images2)\n",
        "# fid between images1 and images1\n",
        "fid = calculate_fid(model, images1, images1)\n",
        "print('FID (same): %.3f' % fid)\n",
        "# fid between images1 and images2\n",
        "fid = calculate_fid(model, images1, images2)\n",
        "print('FID (different): %.3f' % fid)"
      ],
      "execution_count": null,
      "outputs": []
    },
    {
      "cell_type": "code",
      "metadata": {
        "id": "5RgLc0Ih5HOg",
        "colab": {
          "base_uri": "https://localhost:8080/"
        },
        "outputId": "610b827d-a163-415e-fb8b-09cf07f5cf84"
      },
      "source": [
        "model = InceptionV3(include_top=False, pooling='avg', input_shape=(256,256,3))\n"
      ],
      "execution_count": 20,
      "outputs": [
        {
          "output_type": "stream",
          "text": [
            "Downloading data from https://storage.googleapis.com/tensorflow/keras-applications/inception_v3/inception_v3_weights_tf_dim_ordering_tf_kernels_notop.h5\n",
            "87916544/87910968 [==============================] - 1s 0us/step\n",
            "87924736/87910968 [==============================] - 1s 0us/step\n"
          ],
          "name": "stdout"
        },
        {
          "output_type": "execute_result",
          "data": {
            "text/plain": [
              "(300, 2048)"
            ]
          },
          "metadata": {
            "tags": []
          },
          "execution_count": 20
        }
      ]
    },
    {
      "cell_type": "code",
      "metadata": {
        "id": "VXdZh3sX-OBV",
        "colab": {
          "base_uri": "https://localhost:8080/"
        },
        "outputId": "b2ac866a-4035-4ed5-cc14-8194c44ae35d"
      },
      "source": [
        "#rand 1000 vectors of 30 indexs\n",
        "min=300\n",
        "max=0\n",
        "\n",
        "AllImages = preprocess_input(images)\n",
        "for number in range(100):   \n",
        "    rndArr=np.random.choice(300, 30)\n",
        "    selectImg=images[rndArr,:,:,:]\n",
        "    selectImg1 = preprocess_input(selectImg)\n",
        "    fid = calculate_fid(model, AllImages, selectImg1)\n",
        "    if fid < min:\n",
        "       print('FID (temp min): %.3f' % fid)\n",
        "       print(i)\n",
        "       min=fid\n",
        "       minIndx= rndArr\n",
        "    if fid > max:\n",
        "       print('FID (temp max): %.3f' % fid)\n",
        "       print(i)\n",
        "       max=fid\n",
        "       maxIndx= rndArr\n",
        "print('MIN Final---FID : %.3f' % min)\n",
        "print(minIndx)\n",
        "print('MAX Final---FID : %.3f' % max)\n",
        "print(maxIndx)"
      ],
      "execution_count": null,
      "outputs": [
        {
          "output_type": "stream",
          "text": [
            "FID (temp min): 217.818\n",
            "FID (temp max): 217.818\n",
            "FID (temp min): 208.034\n",
            "FID (temp min): 201.899\n",
            "FID (temp max): 229.195\n",
            "FID (temp min): 201.761\n",
            "FID (temp min): 201.072\n",
            "FID (temp max): 231.111\n",
            "FID (temp min): 200.004\n",
            "FID (temp min): 197.385\n",
            "FID (temp min): 194.471\n",
            "FID (temp min): 193.589\n",
            "FID (temp max): 231.899\n"
          ],
          "name": "stdout"
        }
      ]
    },
    {
      "cell_type": "code",
      "metadata": {
        "id": "yWwJOeorKPef",
        "colab": {
          "base_uri": "https://localhost:8080/"
        },
        "outputId": "d98541f9-2f5b-48bc-9ed8-1a0abcc42a36"
      },
      "source": [
        "t1=[113,101,2,150,279,254,3,280,32,95,249,157,234,1,115,285,196,175,220,231,24,29,0,215,149,4,9,7,97,22]\n",
        "selectImg=images[t1,:,:,:]\n",
        "print(selectImg.shape)\n",
        "AllImages = preprocess_input(images)\n",
        "selectImg1 = preprocess_input(selectImg)\n",
        "fid = calculate_fid(model, images, selectImg1)\n",
        "print('FID (temp min): %.3f' % fid)"
      ],
      "execution_count": 11,
      "outputs": [
        {
          "output_type": "stream",
          "text": [
            "(30, 256, 256, 3)\n",
            "FID (temp min): 203.681\n"
          ],
          "name": "stdout"
        }
      ]
    },
    {
      "cell_type": "code",
      "metadata": {
        "id": "DDyaR6Awi9U0"
      },
      "source": [
        "#import numpy as np\n",
        "#import matplotlib.pyplot as plt\n",
        "from tqdm import tqdm\n",
        "import os\n",
        "import matplotlib.pyplot as plt\n",
        "import numpy as np"
      ],
      "execution_count": 7,
      "outputs": []
    },
    {
      "cell_type": "code",
      "metadata": {
        "colab": {
          "base_uri": "https://localhost:8080/"
        },
        "id": "qqkjzwLowg47",
        "outputId": "f6a5272e-97a0-46d1-b7a1-711ad4572caf"
      },
      "source": [
        "images = []\n",
        "root = '/content/drive/MyDrive/gan-getting-started/monet_jpg'\n",
        "#root = 'sample_data/Monet'\n",
        "for file in tqdm(os.listdir(root)):\n",
        "    images.append(plt.imread(root+'/'+file))\n",
        "images = np.array(images)"
      ],
      "execution_count": 8,
      "outputs": [
        {
          "output_type": "stream",
          "text": [
            "100%|██████████| 300/300 [00:00<00:00, 469.33it/s]\n"
          ],
          "name": "stderr"
        }
      ]
    },
    {
      "cell_type": "code",
      "metadata": {
        "colab": {
          "base_uri": "https://localhost:8080/",
          "height": 286
        },
        "id": "RRIIQNhoUxb7",
        "outputId": "9759ee65-528a-44c9-a4cb-8a1a515cc815"
      },
      "source": [
        "plt.imshow(images[3])"
      ],
      "execution_count": 14,
      "outputs": [
        {
          "output_type": "execute_result",
          "data": {
            "text/plain": [
              "<matplotlib.image.AxesImage at 0x7fbeeb1db4d0>"
            ]
          },
          "metadata": {
            "tags": []
          },
          "execution_count": 14
        },
        {
          "output_type": "display_data",
          "data": {
            "image/png": "[encoded data removed]",
            "text/plain": [
              "<Figure size 432x288 with 1 Axes>"
            ]
          },
          "metadata": {
            "tags": [],
            "needs_background": "light"
          }
        }
      ]
    },
    {
      "cell_type": "code",
      "metadata": {
        "colab": {
          "base_uri": "https://localhost:8080/"
        },
        "id": "Kzl_imzHjDuc",
        "outputId": "c72f2b45-2bd2-4674-a516-1ddbbc279026"
      },
      "source": [
        "images1 = images.astype('float32')\n",
        "print(images1.shape)\n",
        "print(images1[0][0][0][0])"
      ],
      "execution_count": 9,
      "outputs": [
        {
          "output_type": "stream",
          "text": [
            "(300, 256, 256, 3)\n",
            "178.0\n"
          ],
          "name": "stdout"
        }
      ]
    },
    {
      "cell_type": "code",
      "metadata": {
        "id": "1N9BUaFAkE50"
      },
      "source": [
        "# example of calculating the frechet inception distance in Keras\n",
        "import numpy\n",
        "from numpy import cov\n",
        "from numpy import trace\n",
        "from numpy import iscomplexobj\n",
        "from numpy import asarray\n",
        "from numpy.random import randint\n",
        "from scipy.linalg import sqrtm\n",
        "from keras.applications.inception_v3 import InceptionV3\n",
        "from keras.applications.inception_v3 import preprocess_input\n",
        "#from keras.datasets.mnist import load_data\n",
        "from skimage.transform import resize\n",
        "model = InceptionV3(include_top=False, pooling='avg', input_shape=(256,256,3))"
      ],
      "execution_count": 10,
      "outputs": []
    },
    {
      "cell_type": "code",
      "metadata": {
        "colab": {
          "base_uri": "https://localhost:8080/"
        },
        "id": "P7d_tWH8sccy",
        "outputId": "26f312cd-e877-4c6d-9cee-057249c42e7d"
      },
      "source": [
        "AllImages = preprocess_input(images1.copy())\n",
        "act1 = model.predict(AllImages)\n",
        "print(act1.shape)"
      ],
      "execution_count": 11,
      "outputs": [
        {
          "output_type": "stream",
          "text": [
            "(300, 2048)\n"
          ],
          "name": "stdout"
        }
      ]
    },
    {
      "cell_type": "code",
      "metadata": {
        "id": "5nP16PV2NyYT"
      },
      "source": [
        "# example of calculating the frechet inception distance in Keras\n",
        "import numpy\n",
        "from numpy import cov\n",
        "from numpy import trace\n",
        "from numpy import iscomplexobj\n",
        "from numpy import asarray\n",
        "from numpy.random import randint\n",
        "from scipy.linalg import sqrtm\n",
        "from keras.applications.inception_v3 import InceptionV3\n",
        "from keras.applications.inception_v3 import preprocess_input\n",
        "from keras.datasets.mnist import load_data\n",
        "from skimage.transform import resize\n",
        " \n",
        "# scale an array of images to a new size\n",
        "def scale_images(images, new_shape):\n",
        "\timages_list = list()\n",
        "\tfor image in images:\n",
        "\t\t# resize with nearest neighbor interpolation\n",
        "\t\tnew_image = resize(image, new_shape, 0)\n",
        "\t\t# store\n",
        "\t\timages_list.append(new_image)\n",
        "\treturn asarray(images_list)\n",
        " \n",
        "# calculate frechet inception distance\n",
        "def calculate_fid(model, act1, act2):\n",
        "\t# calculate activations\n",
        "\n",
        "\t# calculate mean and covariance statistics\n",
        "\tmu1, sigma1 = act1.mean(axis=0), cov(act1, rowvar=False)\n",
        "\tmu2, sigma2 = act2.mean(axis=0), cov(act2, rowvar=False)\n",
        "\t# calculate sum squared difference between means\n",
        "\tssdiff = numpy.sum((mu1 - mu2)**2.0)\n",
        "\t# calculate sqrt of product between cov\n",
        "\tcovmean = sqrtm(sigma1.dot(sigma2))\n",
        "\t# check and correct imaginary numbers from sqrt\n",
        "\tif iscomplexobj(covmean):\n",
        "\t\tcovmean = covmean.real\n",
        "\t# calculate score\n",
        "\tfid = ssdiff + trace(sigma1 + sigma2 - 2.0 * covmean)\n",
        "\treturn fid"
      ],
      "execution_count": null,
      "outputs": []
    },
    {
      "cell_type": "code",
      "metadata": {
        "colab": {
          "base_uri": "https://localhost:8080/",
          "height": 1000
        },
        "id": "cAKynq5Dit8R",
        "outputId": "cca89419-9085-462b-d376-633553a387a6"
      },
      "source": [
        "#rand 1000 vectors of 30 indexs\n",
        "min=196.4\n",
        "max=235.3\n",
        "\n",
        "\n",
        "for number in range(100):   \n",
        "    rndArr=np.random.choice(300, 30)\n",
        "    act2 = act1[rndArr,]\n",
        "    #selectImg1 = preprocess_input(selectImg)\n",
        "    fid = calculate_fid(model, act1, act2)\n",
        "    if fid < min:\n",
        "       print('FID (temp min): %.3f' % fid)\n",
        "       #print(number)\n",
        "       min=fid\n",
        "       minIndx= rndArr\n",
        "       print(minIndx)\n",
        "    if fid > max:\n",
        "       print('FID (temp max): %.3f' % fid)\n",
        "      # print(number)\n",
        "       max=fid\n",
        "       maxIndx= rndArr\n",
        "       print(maxIndx)\n",
        "    print(number)\n",
        "print('MIN Final---FID : %.3f' % min)\n",
        "print(minIndx)\n",
        "print('MAX Final---FID : %.3f' % max)\n",
        "print(maxIndx)"
      ],
      "execution_count": 24,
      "outputs": [
        {
          "output_type": "stream",
          "text": [
            "0\n",
            "1\n",
            "2\n",
            "3\n",
            "4\n",
            "5\n",
            "6\n",
            "7\n",
            "8\n",
            "9\n",
            "10\n",
            "11\n",
            "12\n",
            "13\n",
            "14\n",
            "15\n",
            "16\n",
            "17\n",
            "18\n",
            "19\n",
            "20\n",
            "21\n",
            "FID (temp min): 195.129\n",
            "[133 176 116  37 118 128  26 124 161  32 291 267 146 114 280 206 273 287\n",
            "   3 252  11  15 184   4 258 126 131  34 248 201]\n",
            "22\n",
            "23\n",
            "24\n",
            "25\n",
            "26\n",
            "27\n",
            "28\n",
            "29\n",
            "30\n",
            "31\n",
            "32\n",
            "33\n",
            "34\n",
            "35\n",
            "36\n",
            "37\n",
            "38\n",
            "39\n",
            "40\n",
            "41\n",
            "42\n",
            "43\n",
            "44\n",
            "45\n",
            "46\n",
            "47\n",
            "48\n",
            "49\n",
            "50\n",
            "51\n",
            "52\n",
            "53\n",
            "54\n",
            "55\n",
            "56\n",
            "57\n",
            "58\n",
            "59\n",
            "60\n",
            "61\n",
            "62\n",
            "63\n",
            "64\n",
            "65\n",
            "66\n",
            "67\n",
            "68\n",
            "69\n",
            "70\n",
            "71\n",
            "72\n",
            "73\n",
            "74\n",
            "75\n",
            "76\n",
            "77\n",
            "78\n",
            "79\n",
            "80\n",
            "81\n",
            "82\n",
            "83\n",
            "84\n",
            "85\n",
            "86\n",
            "87\n",
            "88\n"
          ],
          "name": "stdout"
        },
        {
          "output_type": "error",
          "ename": "KeyboardInterrupt",
          "evalue": "ignored",
          "traceback": [
            "\u001b[0;31m---------------------------------------------------------------------------\u001b[0m",
            "\u001b[0;31mKeyboardInterrupt\u001b[0m                         Traceback (most recent call last)",
            "\u001b[0;32m<ipython-input-24-0436c3f25dec>\u001b[0m in \u001b[0;36m<module>\u001b[0;34m()\u001b[0m\n\u001b[1;32m      8\u001b[0m     \u001b[0mact2\u001b[0m \u001b[0;34m=\u001b[0m \u001b[0mact1\u001b[0m\u001b[0;34m[\u001b[0m\u001b[0mrndArr\u001b[0m\u001b[0;34m,\u001b[0m\u001b[0;34m]\u001b[0m\u001b[0;34m\u001b[0m\u001b[0;34m\u001b[0m\u001b[0m\n\u001b[1;32m      9\u001b[0m     \u001b[0;31m#selectImg1 = preprocess_input(selectImg)\u001b[0m\u001b[0;34m\u001b[0m\u001b[0;34m\u001b[0m\u001b[0;34m\u001b[0m\u001b[0m\n\u001b[0;32m---> 10\u001b[0;31m     \u001b[0mfid\u001b[0m \u001b[0;34m=\u001b[0m \u001b[0mcalculate_fid\u001b[0m\u001b[0;34m(\u001b[0m\u001b[0mmodel\u001b[0m\u001b[0;34m,\u001b[0m \u001b[0mact1\u001b[0m\u001b[0;34m,\u001b[0m \u001b[0mact2\u001b[0m\u001b[0;34m)\u001b[0m\u001b[0;34m\u001b[0m\u001b[0;34m\u001b[0m\u001b[0m\n\u001b[0m\u001b[1;32m     11\u001b[0m     \u001b[0;32mif\u001b[0m \u001b[0mfid\u001b[0m \u001b[0;34m<\u001b[0m \u001b[0mmin\u001b[0m\u001b[0;34m:\u001b[0m\u001b[0;34m\u001b[0m\u001b[0;34m\u001b[0m\u001b[0m\n\u001b[1;32m     12\u001b[0m        \u001b[0mprint\u001b[0m\u001b[0;34m(\u001b[0m\u001b[0;34m'FID (temp min): %.3f'\u001b[0m \u001b[0;34m%\u001b[0m \u001b[0mfid\u001b[0m\u001b[0;34m)\u001b[0m\u001b[0;34m\u001b[0m\u001b[0;34m\u001b[0m\u001b[0m\n",
            "\u001b[0;32m<ipython-input-23-0995fad0dc4a>\u001b[0m in \u001b[0;36mcalculate_fid\u001b[0;34m(model, act1, act2)\u001b[0m\n\u001b[1;32m     32\u001b[0m         \u001b[0mssdiff\u001b[0m \u001b[0;34m=\u001b[0m \u001b[0mnumpy\u001b[0m\u001b[0;34m.\u001b[0m\u001b[0msum\u001b[0m\u001b[0;34m(\u001b[0m\u001b[0;34m(\u001b[0m\u001b[0mmu1\u001b[0m \u001b[0;34m-\u001b[0m \u001b[0mmu2\u001b[0m\u001b[0;34m)\u001b[0m\u001b[0;34m**\u001b[0m\u001b[0;36m2.0\u001b[0m\u001b[0;34m)\u001b[0m\u001b[0;34m\u001b[0m\u001b[0;34m\u001b[0m\u001b[0m\n\u001b[1;32m     33\u001b[0m         \u001b[0;31m# calculate sqrt of product between cov\u001b[0m\u001b[0;34m\u001b[0m\u001b[0;34m\u001b[0m\u001b[0;34m\u001b[0m\u001b[0m\n\u001b[0;32m---> 34\u001b[0;31m         \u001b[0mcovmean\u001b[0m \u001b[0;34m=\u001b[0m \u001b[0msqrtm\u001b[0m\u001b[0;34m(\u001b[0m\u001b[0msigma1\u001b[0m\u001b[0;34m.\u001b[0m\u001b[0mdot\u001b[0m\u001b[0;34m(\u001b[0m\u001b[0msigma2\u001b[0m\u001b[0;34m)\u001b[0m\u001b[0;34m)\u001b[0m\u001b[0;34m\u001b[0m\u001b[0;34m\u001b[0m\u001b[0m\n\u001b[0m\u001b[1;32m     35\u001b[0m         \u001b[0;31m# check and correct imaginary numbers from sqrt\u001b[0m\u001b[0;34m\u001b[0m\u001b[0;34m\u001b[0m\u001b[0;34m\u001b[0m\u001b[0m\n\u001b[1;32m     36\u001b[0m         \u001b[0;32mif\u001b[0m \u001b[0miscomplexobj\u001b[0m\u001b[0;34m(\u001b[0m\u001b[0mcovmean\u001b[0m\u001b[0;34m)\u001b[0m\u001b[0;34m:\u001b[0m\u001b[0;34m\u001b[0m\u001b[0;34m\u001b[0m\u001b[0m\n",
            "\u001b[0;31mKeyboardInterrupt\u001b[0m: "
          ]
        }
      ]
    },
    {
      "cell_type": "code",
      "metadata": {
        "colab": {
          "base_uri": "https://localhost:8080/"
        },
        "id": "hIJR4qB6q8Al",
        "outputId": "0c7212d6-9970-40ce-c219-e7e82ef8e519"
      },
      "source": [
        "select = [160, 262, 146, 294, 187, 252, 279,  78, 199, 282,  19,  80,  62,\n",
        "        35,  25,  83, 111,   3, 121, 273,  32, 192, 209, 147, 125, 193, 65, 268, 155, 255]\n",
        "act2 = act1[0:30,]\n",
        "#selectImg1 = preprocess_input(selectImg)\n",
        "fid = calculate_fid(model, act1, act2)\n",
        "print('FID (temp max): %.3f' % fid)\n",
        "act3 = act1[select,]\n",
        "#selectImg1 = preprocess_input(selectImg)\n",
        "fid = calculate_fid(model, act1, act3)\n",
        "print('FID (temp max): %.3f' % fid)"
      ],
      "execution_count": 10,
      "outputs": [
        {
          "output_type": "stream",
          "text": [
            "FID (temp max): 200.744\n",
            "FID (temp max): 197.384\n"
          ],
          "name": "stdout"
        }
      ]
    },
    {
      "cell_type": "code",
      "metadata": {
        "colab": {
          "base_uri": "https://localhost:8080/"
        },
        "id": "2G4lcad88HCh",
        "outputId": "e115d6a5-6348-4429-f5d1-9aea627599da"
      },
      "source": [
        "\n",
        "#select =[133 ,176, 116,  37, 118, 128 , 26 ,124, 161,  32, 291, 267, 146, 114, 280, 206, 273, 287,\n",
        " #  3, 252 , 11 , 15 ,184 ,  4 ,258, 126, 131,  34, 248, 201]#FID (temp min): 195.129\n",
        "#select =[158 ,252, 178, 229 , 76 ,127, 203 , 75 ,154 , 20 , 15 , 46, 155, 100 , 49, 279 ,166, 159,\n",
        "# 222, 160 ,168,   6 ,224,  88, 111,  27 ,242, 297 , 73  ,87]#FID :195.479\n",
        "\n",
        "#select = [ 72, 182, 148, 247 ,137 ,181 , 16, 298 ,149, 166 ,153, 121, 253 , 58, 183 , 15, 280, 229,\n",
        " #185 , 80, 146,  19, 252, 128, 131 ,  3, 145,  12 ,174,  68]#fid=195.608\n",
        "\n",
        "#select =[25,  54,  40,  14, 235, 269,  80, 107, 219,  73, 195,  13,  28,\n",
        "#       113, 177, 138, 281, 133, 157,  33, 233,  41,  35, 272, 101, 131, 50,  71, 170, 188]#fid = 196.917\n",
        "\n",
        "#MAX\n",
        "\n",
        "#select = [115  21  58  63  10  28 219 154 171 185 241 224 177  68 139 115 215  63\n",
        " #248 240 268  91  84 104   4 263  59 240 274 171]#FID : 238.485\n",
        "\n",
        "#select =[295, 195 ,194 , 54 ,  7 , 85, 270, 182 , 64 ,167, 192 ,242, 129 , 92 ,165,  77 , 68 , 92,\n",
        "# 114, 167,  92, 201, 114, 201 , 94 , 22 ,224, 225, 171, 124]#FID : 235.371\n",
        "\n",
        "#select =[208 ,165, 136  ,16 , 80, 223 ,184 ,293 , 60 , 90, 137, 156, 214 , 16,  11  ,66 ,240, 104,\n",
        "# 104 , 13 ,266, 252 ,145 ,254 , 30, 257 ,210,  28 ,174 , 48]#FID : 233.283\n",
        "\n",
        "\n",
        "#VGG Clustering\n",
        "select =[113,\n",
        " 101,\n",
        " 2,\n",
        " 150,\n",
        " 279,\n",
        " 254,\n",
        " 3,\n",
        " 280,\n",
        " 32,\n",
        " 95,\n",
        " 249,\n",
        " 157,\n",
        " 234,\n",
        " 1,\n",
        " 115,\n",
        " 285,\n",
        " 196,\n",
        " 175,\n",
        " 220,\n",
        " 231,\n",
        " 24,\n",
        " 29,\n",
        " 0,\n",
        " 215,\n",
        " 149,\n",
        " 4,\n",
        " 9,\n",
        " 7,\n",
        " 97,\n",
        " 22]\n",
        "\n",
        "act4 = act1[select,]\n",
        "#selectImg1 = preprocess_input(selectImg)\n",
        "fid = calculate_fid(model, act1, act4)\n",
        "print('FID : %.3f' % fid)"
      ],
      "execution_count": 13,
      "outputs": [
        {
          "output_type": "stream",
          "text": [
            "FID : 203.681\n"
          ],
          "name": "stdout"
        }
      ]
    },
    {
      "cell_type": "code",
      "metadata": {
        "colab": {
          "base_uri": "https://localhost:8080/"
        },
        "id": "qlChPqVLrXS6",
        "outputId": "27368ff3-c8bd-4baa-d046-a53f769e81a3"
      },
      "source": [
        "minIndx\n"
      ],
      "execution_count": 89,
      "outputs": [
        {
          "output_type": "execute_result",
          "data": {
            "text/plain": [
              "array([ 25,  54,  40,  14, 235, 269,  80, 107, 219,  73, 195,  13,  28,\n",
              "       113, 177, 138, 281, 133, 157,  33, 233,  41,  35, 272, 101, 131,\n",
              "        50,  71, 170, 188])"
            ]
          },
          "metadata": {
            "tags": []
          },
          "execution_count": 89
        }
      ]
    },
    {
      "cell_type": "code",
      "metadata": {
        "colab": {
          "base_uri": "https://localhost:8080/",
          "height": 163
        },
        "id": "ctyzgDb1vuKW",
        "outputId": "309678b7-13b0-4d4d-e118-4ebe5cd9614c"
      },
      "source": [
        "maxIndx"
      ],
      "execution_count": 1,
      "outputs": [
        {
          "output_type": "error",
          "ename": "NameError",
          "evalue": "ignored",
          "traceback": [
            "\u001b[0;31m---------------------------------------------------------------------------\u001b[0m",
            "\u001b[0;31mNameError\u001b[0m                                 Traceback (most recent call last)",
            "\u001b[0;32m<ipython-input-1-25d6555a59db>\u001b[0m in \u001b[0;36m<module>\u001b[0;34m()\u001b[0m\n\u001b[0;32m----> 1\u001b[0;31m \u001b[0mmaxIndx\u001b[0m\u001b[0;34m\u001b[0m\u001b[0;34m\u001b[0m\u001b[0m\n\u001b[0m",
            "\u001b[0;31mNameError\u001b[0m: name 'maxIndx' is not defined"
          ]
        }
      ]
    },
    {
      "cell_type": "markdown",
      "metadata": {
        "id": "9x9B6at9EMCs"
      },
      "source": [
        "AutoEnc Base VGG"
      ]
    }
  ]
}