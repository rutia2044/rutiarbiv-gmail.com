{
  "nbformat": 4,
  "nbformat_minor": 0,
  "metadata": {
    "accelerator": "GPU",
    "colab": {
      "name": "VGG_imagnet.ipynb",
      "provenance": [],
      "collapsed_sections": [],
      "include_colab_link": true
    },
    "kernelspec": {
      "display_name": "Python 3",
      "name": "python3"
    },
    "language_info": {
      "name": "python"
    }
  },
  "cells": [
    {
      "cell_type": "markdown",
      "metadata": {
        "id": "view-in-github",
        "colab_type": "text"
      },
      "source": [
        "<a href=\"https://colab.research.google.com/github/rutia2044/rutiarbiv-gmail.com/blob/master/VGG_MIN_FID_FINAL.ipynb\" target=\"_parent\"><img src=\"https://colab.research.google.com/assets/colab-badge.svg\" alt=\"Open In Colab\"/></a>"
      ]
    },
    {
      "cell_type": "markdown",
      "metadata": {
        "id": "nwzDcTQ2ct-N"
      },
      "source": [
        "1. FEATURES EXTRACTION USING VGG-16\n",
        "2. DIMENSION REDUCTION BY TSNE                   \n",
        "3. CALCULATE **FID**(Frechet Inception Distance) FOR RANDOMALLY VECTORS OF INDEXES \n",
        "4. SELECT THE INDEXES THAT RECEIVED THE LOWEST FID \n",
        "\n",
        "\n"
      ]
    },
    {
      "cell_type": "code",
      "metadata": {
        "id": "ngaEb_1NiX-t"
      },
      "source": [
        "#from google.colab import drive\n",
        "#drive.mount('/content/drive')"
      ],
      "execution_count": 11,
      "outputs": []
    },
    {
      "cell_type": "code",
      "metadata": {
        "id": "cEQPbjVPDhFP"
      },
      "source": [
        "import numpy as np\n",
        " \n",
        "import torchvision.transforms as transforms\n",
        "from torchvision.utils import make_grid\n",
        " \n",
        "from torch.utils.data import DataLoader\n",
        "from torchvision import datasets\n",
        "from torch.autograd import Variable\n",
        " \n",
        "import torch.nn as nn\n",
        "import torch.nn.functional as F\n",
        "import torch\n",
        " \n",
        "import os\n",
        "import glob\n",
        " \n",
        "import matplotlib.pyplot as plt\n",
        "from tqdm.notebook import tqdm\n",
        "import warnings\n",
        "from tensorflow import keras,summary\n",
        "from keras.applications.vgg16 import VGG16\n",
        "from sklearn.manifold import TSNE\n",
        "\n",
        "from sklearn.cluster import KMeans\n",
        "import collections\n",
        "\n",
        "import sys\n",
        "sys.path.insert(0, \"sample_data\")\n",
        "#from Functions import Load_images \n",
        "import Functions"
      ],
      "execution_count": 12,
      "outputs": []
    },
    {
      "cell_type": "markdown",
      "metadata": {
        "id": "JQPO0A6rcT5q"
      },
      "source": [
        "LOAD MONET IMAGES"
      ]
    },
    {
      "cell_type": "code",
      "metadata": {
        "colab": {
          "base_uri": "https://localhost:8080/"
        },
        "id": "wynBkqLqCSVZ",
        "outputId": "afe91e50-80db-4dc8-c623-da7d9a22ebeb"
      },
      "source": [
        "images = Functions.Load_images()"
      ],
      "execution_count": 13,
      "outputs": [
        {
          "output_type": "stream",
          "text": [
            "100%|██████████| 300/300 [00:00<00:00, 825.82it/s]\n"
          ],
          "name": "stderr"
        }
      ]
    },
    {
      "cell_type": "code",
      "metadata": {
        "id": "3pJSM2wCCWOB",
        "colab": {
          "base_uri": "https://localhost:8080/"
        },
        "outputId": "19378f33-5be7-4f61-bebd-8ae125103da8"
      },
      "source": [
        "images = images/255\n",
        "print(images[0][0][0][0])"
      ],
      "execution_count": 14,
      "outputs": [
        {
          "output_type": "stream",
          "text": [
            "0.6431372549019608\n"
          ],
          "name": "stdout"
        }
      ]
    },
    {
      "cell_type": "markdown",
      "metadata": {
        "id": "VvEe51Ycccx4"
      },
      "source": [
        "FEATURES EXTRACTION USING VGG (without fully connected layer, using 'imagenet' weights)"
      ]
    },
    {
      "cell_type": "code",
      "metadata": {
        "colab": {
          "base_uri": "https://localhost:8080/"
        },
        "id": "m6464ntODT29",
        "outputId": "39cee7ca-9075-403d-97a8-ae0d9fbbb1e5"
      },
      "source": [
        "#Featers Extraction by VGG Network -without fully connected layer(include_top=False)\n",
        "ModelVGG16 = VGG16(include_top=False,input_shape=(256, 256, 3),weights='imagenet')\n",
        "ModelVGG16.summary()"
      ],
      "execution_count": 15,
      "outputs": [
        {
          "output_type": "stream",
          "text": [
            "Model: \"vgg16\"\n",
            "_________________________________________________________________\n",
            "Layer (type)                 Output Shape              Param #   \n",
            "=================================================================\n",
            "input_2 (InputLayer)         [(None, 256, 256, 3)]     0         \n",
            "_________________________________________________________________\n",
            "block1_conv1 (Conv2D)        (None, 256, 256, 64)      1792      \n",
            "_________________________________________________________________\n",
            "block1_conv2 (Conv2D)        (None, 256, 256, 64)      36928     \n",
            "_________________________________________________________________\n",
            "block1_pool (MaxPooling2D)   (None, 128, 128, 64)      0         \n",
            "_________________________________________________________________\n",
            "block2_conv1 (Conv2D)        (None, 128, 128, 128)     73856     \n",
            "_________________________________________________________________\n",
            "block2_conv2 (Conv2D)        (None, 128, 128, 128)     147584    \n",
            "_________________________________________________________________\n",
            "block2_pool (MaxPooling2D)   (None, 64, 64, 128)       0         \n",
            "_________________________________________________________________\n",
            "block3_conv1 (Conv2D)        (None, 64, 64, 256)       295168    \n",
            "_________________________________________________________________\n",
            "block3_conv2 (Conv2D)        (None, 64, 64, 256)       590080    \n",
            "_________________________________________________________________\n",
            "block3_conv3 (Conv2D)        (None, 64, 64, 256)       590080    \n",
            "_________________________________________________________________\n",
            "block3_pool (MaxPooling2D)   (None, 32, 32, 256)       0         \n",
            "_________________________________________________________________\n",
            "block4_conv1 (Conv2D)        (None, 32, 32, 512)       1180160   \n",
            "_________________________________________________________________\n",
            "block4_conv2 (Conv2D)        (None, 32, 32, 512)       2359808   \n",
            "_________________________________________________________________\n",
            "block4_conv3 (Conv2D)        (None, 32, 32, 512)       2359808   \n",
            "_________________________________________________________________\n",
            "block4_pool (MaxPooling2D)   (None, 16, 16, 512)       0         \n",
            "_________________________________________________________________\n",
            "block5_conv1 (Conv2D)        (None, 16, 16, 512)       2359808   \n",
            "_________________________________________________________________\n",
            "block5_conv2 (Conv2D)        (None, 16, 16, 512)       2359808   \n",
            "_________________________________________________________________\n",
            "block5_conv3 (Conv2D)        (None, 16, 16, 512)       2359808   \n",
            "_________________________________________________________________\n",
            "block5_pool (MaxPooling2D)   (None, 8, 8, 512)         0         \n",
            "=================================================================\n",
            "Total params: 14,714,688\n",
            "Trainable params: 14,714,688\n",
            "Non-trainable params: 0\n",
            "_________________________________________________________________\n"
          ],
          "name": "stdout"
        }
      ]
    },
    {
      "cell_type": "code",
      "metadata": {
        "colab": {
          "base_uri": "https://localhost:8080/"
        },
        "id": "9QcKjKf9D0oE",
        "outputId": "70426a3d-4871-48c2-f092-b60ea05ce64f"
      },
      "source": [
        "ImgPred = ModelVGG16.predict(images)\n",
        "ImgPred.shape"
      ],
      "execution_count": 16,
      "outputs": [
        {
          "output_type": "execute_result",
          "data": {
            "text/plain": [
              "(300, 8, 8, 512)"
            ]
          },
          "metadata": {
            "tags": []
          },
          "execution_count": 16
        }
      ]
    },
    {
      "cell_type": "markdown",
      "metadata": {
        "id": "jy2jeolU38sO"
      },
      "source": [
        "DIMENSION REDUCTION BY TSNE"
      ]
    },
    {
      "cell_type": "code",
      "metadata": {
        "id": "7Q_IUzmf39Zd",
        "colab": {
          "base_uri": "https://localhost:8080/"
        },
        "outputId": "d693ca91-5c78-45a3-9a1d-b20db9147063"
      },
      "source": [
        "tsneAllImages = TSNE(n_components=700,method='exact').fit_transform( ImgPred.reshape(300,-1))\n",
        "print(tsneAllImages.shape)"
      ],
      "execution_count": 17,
      "outputs": [
        {
          "output_type": "stream",
          "text": [
            "(300, 700)\n"
          ],
          "name": "stdout"
        }
      ]
    },
    {
      "cell_type": "markdown",
      "metadata": {
        "id": "DlQKFvmc5oCq"
      },
      "source": [
        "* CALCULATE **FID** (Frechet Inception Distance) FOR RANDOMALLY VECTORS OF INDEXES \n",
        "* SELECT THE INDEXES THAT RECEIVED THE LOWEST FID "
      ]
    },
    {
      "cell_type": "code",
      "metadata": {
        "id": "O5WM0K0q1-iI",
        "colab": {
          "base_uri": "https://localhost:8080/"
        },
        "outputId": "d6217153-6068-4f12-b0d9-70cfd7c86e7f"
      },
      "source": [
        "min_fid,indexes_with_min_fid= Functions.Find_indexes_whith_min_Fid_from_random_vectors(tsneAllImages,10)"
      ],
      "execution_count": 18,
      "outputs": [
        {
          "output_type": "stream",
          "text": [
            "FID (temp min): 627.919\n",
            "0\n",
            "[264  59 268 140 103  11 170 194 233  94 257 172 174 192  51 172 237 156\n",
            "  50 120  40 239  15 241  78 147 284 269  55 113]\n",
            "FID (temp min): 587.184\n",
            "1\n",
            "[163 139   4 129 197 289  93 274 289 277  76 251  42 177 173 169 142 251\n",
            " 276  65 208 178 237  90 154  16 208 157 228  55]\n",
            "MIN Final---FID : 587.184\n",
            "The Selected Indexes Are: \n",
            "[163 139   4 129 197 289  93 274 289 277  76 251  42 177 173 169 142 251\n",
            " 276  65 208 178 237  90 154  16 208 157 228  55]\n"
          ],
          "name": "stdout"
        }
      ]
    }
  ]
}