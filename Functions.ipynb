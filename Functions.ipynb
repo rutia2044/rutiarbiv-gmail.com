{
  "nbformat": 4,
  "nbformat_minor": 0,
  "metadata": {
    "accelerator": "GPU",
    "colab": {
      "name": "VGG_imagnet.ipynb",
      "provenance": [],
      "collapsed_sections": [],
      "include_colab_link": true
    },
    "kernelspec": {
      "display_name": "Python 3",
      "name": "python3"
    },
    "language_info": {
      "name": "python"
    }
  },
  "cells": [
    {
      "cell_type": "markdown",
      "metadata": {
        "id": "view-in-github",
        "colab_type": "text"
      },
      "source": [
        "<a href=\"https://colab.research.google.com/github/rutia2044/rutiarbiv-gmail.com/blob/master/Functions.ipynb\" target=\"_parent\"><img src=\"https://colab.research.google.com/assets/colab-badge.svg\" alt=\"Open In Colab\"/></a>"
      ]
    },
    {
      "cell_type": "code",
      "metadata": {
        "id": "cEQPbjVPDhFP"
      },
      "source": [
        "import numpy as np\n",
        " \n",
        "import torchvision.transforms as transforms\n",
        "from torchvision.utils import make_grid\n",
        " \n",
        "from torch.utils.data import DataLoader\n",
        "from torchvision import datasets\n",
        "from torch.autograd import Variable\n",
        " \n",
        "import torch.nn as nn\n",
        "import torch.nn.functional as F\n",
        "import torch\n",
        " \n",
        "import os\n",
        "import glob\n",
        " \n",
        "import matplotlib.pyplot as plt\n",
        "from tqdm.notebook import tqdm\n",
        "import warnings\n",
        "from tensorflow import keras,summary\n"
      ],
      "execution_count": null,
      "outputs": []
    },
    {
      "cell_type": "code",
      "metadata": {
        "colab": {
          "base_uri": "https://localhost:8080/"
        },
        "id": "wynBkqLqCSVZ",
        "outputId": "e0a34848-8079-43ce-e39e-45a4d96f9ca9"
      },
      "source": [
        "import os\n",
        "from tqdm import tqdm\n",
        "def Load_images():\n",
        "  images = []\n",
        "  root = '/content/drive/MyDrive/gan-getting-started/monet_jpg'\n",
        "  for file in tqdm(os.listdir(root)):\n",
        "      images.append(plt.imread(root+'/'+file))\n",
        "  images = np.array(images)\n",
        "  return images"
      ],
      "execution_count": null,
      "outputs": [
        {
          "output_type": "stream",
          "text": [
            "100%|██████████| 300/300 [00:00<00:00, 413.26it/s]\n"
          ],
          "name": "stderr"
        }
      ]
    },
    {
      "cell_type": "markdown",
      "metadata": {
        "id": "GO5r-Wh6pMLt"
      },
      "source": [
        "FID -calculating the frechet inception distance"
      ]
    },
    {
      "cell_type": "code",
      "metadata": {
        "id": "srRjE5repLk3"
      },
      "source": [
        "\n",
        "import numpy\n",
        "from numpy import cov\n",
        "from numpy import trace\n",
        "from numpy import iscomplexobj\n",
        "from numpy import asarray\n",
        "from numpy.random import randint\n",
        "from scipy.linalg import sqrtm\n",
        "from keras.applications.inception_v3 import InceptionV3\n",
        "from keras.applications.inception_v3 import preprocess_input\n",
        "from keras.datasets.mnist import load_data\n",
        "\n",
        "#inputs:\n",
        "#act1,act2 =The features extractions of 2 groups of images\n",
        "#the features extractions done by trained model:InceptionV3/VGG..\n",
        "\n",
        "#output:\n",
        "#FID- calculated frechet inception distance\n",
        "\n",
        "def calculate_fid( act1, act2):\n",
        "\n",
        "\t# calculate mean and covariance statistics\n",
        "\tmu1, sigma1 = act1.mean(axis=0), cov(act1, rowvar=False)\n",
        "\tmu2, sigma2 = act2.mean(axis=0), cov(act2, rowvar=False)\n",
        "\t# calculate sum squared difference between means\n",
        "\tssdiff = numpy.sum((mu1 - mu2)**2.0)\n",
        "\t# calculate sqrt of product between cov\n",
        "\tcovmean = sqrtm(sigma1.dot(sigma2))\n",
        "\t# check and correct imaginary numbers from sqrt\n",
        "\tif iscomplexobj(covmean):\n",
        "\t\tcovmean = covmean.real\n",
        "\t# calculate score\n",
        "\tfid = ssdiff + trace(sigma1 + sigma2 - 2.0 * covmean)\n",
        "\treturn fid"
      ],
      "execution_count": null,
      "outputs": []
    },
    {
      "cell_type": "code",
      "metadata": {
        "colab": {
          "base_uri": "https://localhost:8080/"
        },
        "id": "hRCHVu_v2ZOw",
        "outputId": "d82826d0-63d3-4117-d0dc-5c37938620f0"
      },
      "source": [
        "#rand 100 vectors of 30 indexs\n",
        "def Find_indexes_whith_min_Fid_from_random_vectors(act1, act2):\n",
        "  min=300\n",
        "  #max=0\n",
        "  AllImages = preprocess_input(images)\n",
        "  for number in range(100):   \n",
        "      rndArr=np.random.choice(300, 30)\n",
        "      selectImg=images[rndArr,:,:,:]\n",
        "      selectImg1 = preprocess_input(selectImg)\n",
        "      fid = calculate_fid( AllImages, selectImg1)\n",
        "      if fid < min:\n",
        "        print('FID (temp min): %.3f' % fid)\n",
        "         print(i)\n",
        "         min=fid\n",
        "         minIndx= rndArr\n",
        "   \n",
        "  print('MIN Final---FID : %.3f' % min)\n",
        "  print(minIndx)\n",
        "  return min, minIndx\n"
      ],
      "execution_count": null,
      "outputs": [
        {
          "output_type": "stream",
          "text": [
            "FID (different): 121.143\n",
            "FID (different): 119.423\n",
            "FID (different): 117.635\n"
          ],
          "name": "stdout"
        }
      ]
    },
    {
      "cell_type": "markdown",
      "metadata": {
        "id": "zuoyhN_8iCwv"
      },
      "source": [
        "CLUSTERING"
      ]
    },
    {
      "cell_type": "code",
      "metadata": {
        "colab": {
          "base_uri": "https://localhost:8080/"
        },
        "id": "RIZlRWRGEJAQ",
        "outputId": "edc5bc23-c249-4e77-b46a-5e10286dfef2"
      },
      "source": [
        "from sklearn.cluster import KMeans\n",
        "import collections\n",
        "\n",
        "def Find_indexes_foreach_cluster(act1, act2):\n",
        "  kmeans = KMeans(n_clusters=30).fit(tsneAllImages)\n",
        "  collections.Counter(kmeans.labels_)\n",
        "  select=[]\n",
        "  for i in range (30):\n",
        "    select.append(np.nonzero(kmeans.labels_ == i)[0][0])\n",
        "  return select"
      ],
      "execution_count": null,
      "outputs": [
        {
          "output_type": "execute_result",
          "data": {
            "text/plain": [
              "Counter({0: 1,\n",
              "         1: 10,\n",
              "         2: 21,\n",
              "         3: 2,\n",
              "         4: 1,\n",
              "         5: 1,\n",
              "         6: 83,\n",
              "         7: 1,\n",
              "         8: 1,\n",
              "         9: 1,\n",
              "         10: 1,\n",
              "         11: 1,\n",
              "         12: 1,\n",
              "         13: 23,\n",
              "         14: 1,\n",
              "         15: 1,\n",
              "         16: 1,\n",
              "         17: 1,\n",
              "         18: 1,\n",
              "         19: 1,\n",
              "         20: 16,\n",
              "         21: 19,\n",
              "         22: 30,\n",
              "         23: 1,\n",
              "         24: 1,\n",
              "         25: 25,\n",
              "         26: 21,\n",
              "         27: 17,\n",
              "         28: 1,\n",
              "         29: 15})"
            ]
          },
          "metadata": {
            "tags": []
          },
          "execution_count": 34
        }
      ]
    }
  ]
}