{
  "nbformat": 4,
  "nbformat_minor": 0,
  "metadata": {
    "accelerator": "GPU",
    "colab": {
      "name": "Untitled.ipynb",
      "provenance": [],
      "collapsed_sections": [],
      "include_colab_link": true
    },
    "kernelspec": {
      "display_name": "Python 3",
      "language": "python",
      "name": "python3"
    },
    "language_info": {
      "codemirror_mode": {
        "name": "ipython",
        "version": 3
      },
      "file_extension": ".py",
      "mimetype": "text/x-python",
      "name": "python",
      "nbconvert_exporter": "python",
      "pygments_lexer": "ipython3",
      "version": "3.8.5"
    }
  },
  "cells": [
    {
      "cell_type": "markdown",
      "metadata": {
        "id": "view-in-github",
        "colab_type": "text"
      },
      "source": [
        "<a href=\"https://colab.research.google.com/github/rutia2044/rutiarbiv-gmail.com/blob/master/createDataset30Img.ipynb\" target=\"_parent\"><img src=\"https://colab.research.google.com/assets/colab-badge.svg\" alt=\"Open In Colab\"/></a>"
      ]
    },
    {
      "cell_type": "code",
      "metadata": {
        "colab": {
          "base_uri": "https://localhost:8080/"
        },
        "id": "o7dIcWcmc-Gf",
        "outputId": "56530542-7dc0-4ec9-e8bf-c89dc91e0237"
      },
      "source": [
        "from google.colab import drive\n",
        "drive.mount('/content/drive')"
      ],
      "execution_count": 1,
      "outputs": [
        {
          "output_type": "stream",
          "text": [
            "Mounted at /content/drive\n"
          ],
          "name": "stdout"
        }
      ]
    },
    {
      "cell_type": "code",
      "metadata": {
        "id": "tAQ4hUtvcwyI"
      },
      "source": [
        "import numpy as np\n",
        "import matplotlib.pyplot as plt\n",
        "from tqdm import tqdm\n",
        "import os\n",
        "\n",
        "import keras\n",
        "from keras import models, layers"
      ],
      "execution_count": 2,
      "outputs": []
    },
    {
      "cell_type": "code",
      "metadata": {
        "colab": {
          "base_uri": "https://localhost:8080/"
        },
        "id": "pnz-2n76EAse",
        "outputId": "3e08acdc-db87-410e-bd62-4169cc2bca8b"
      },
      "source": [
        "images = []\n",
        "root = '/content/drive/MyDrive/gan-getting-started/monet_jpg'\n",
        "for file in tqdm(os.listdir(root)):\n",
        "    images.append(plt.imread(root+'/'+file))\n",
        "images = np.array(images)"
      ],
      "execution_count": 3,
      "outputs": [
        {
          "output_type": "stream",
          "text": [
            "100%|██████████| 300/300 [01:33<00:00,  3.19it/s]\n"
          ],
          "name": "stderr"
        }
      ]
    },
    {
      "cell_type": "code",
      "metadata": {
        "id": "v91st99dIlUO"
      },
      "source": [
        "plt.imshow(images[0])"
      ],
      "execution_count": null,
      "outputs": []
    },
    {
      "cell_type": "code",
      "metadata": {
        "id": "CjzopoDeLkEV"
      },
      "source": [
        "plt.imshow(autoencoder.predict(images[0].reshape(1, 256, 256, 3))[0])"
      ],
      "execution_count": null,
      "outputs": []
    },
    {
      "cell_type": "code",
      "metadata": {
        "id": "v-zG7mO3FNTQ",
        "colab": {
          "base_uri": "https://localhost:8080/"
        },
        "outputId": "4955ecb2-9d1a-44a1-d061-fcfacc910be8"
      },
      "source": [
        "images.shape"
      ],
      "execution_count": 4,
      "outputs": [
        {
          "output_type": "execute_result",
          "data": {
            "text/plain": [
              "(300, 256, 256, 3)"
            ]
          },
          "metadata": {
            "tags": []
          },
          "execution_count": 4
        }
      ]
    },
    {
      "cell_type": "code",
      "metadata": {
        "id": "lwPROUU1Ov4k",
        "colab": {
          "base_uri": "https://localhost:8080/"
        },
        "outputId": "e83da3ad-5319-47c5-f8e5-85dbf942a4bc"
      },
      "source": [
        "selected = [113,\n",
        " 101,\n",
        " 2,\n",
        " 150,\n",
        " 279,\n",
        " 254,\n",
        " 3,\n",
        " 280,\n",
        " 32,\n",
        " 95,\n",
        " 249,\n",
        " 157,\n",
        " 234,\n",
        " 1,\n",
        " 115,\n",
        " 285,\n",
        " 196,\n",
        " 175,\n",
        " 220,\n",
        " 231,\n",
        " 24,\n",
        " 29,\n",
        " 0,\n",
        " 215,\n",
        " 149,\n",
        " 4,\n",
        " 9,\n",
        " 7,\n",
        " 97,\n",
        " 22]\n",
        "# for i in range(30):\n",
        "#     selected.append(np.nonzero(kmeans.labels_ == i)[0][0])\n",
        "selected"
      ],
      "execution_count": 7,
      "outputs": [
        {
          "output_type": "execute_result",
          "data": {
            "text/plain": [
              "[113,\n",
              " 101,\n",
              " 2,\n",
              " 150,\n",
              " 279,\n",
              " 254,\n",
              " 3,\n",
              " 280,\n",
              " 32,\n",
              " 95,\n",
              " 249,\n",
              " 157,\n",
              " 234,\n",
              " 1,\n",
              " 115,\n",
              " 285,\n",
              " 196,\n",
              " 175,\n",
              " 220,\n",
              " 231,\n",
              " 24,\n",
              " 29,\n",
              " 0,\n",
              " 215,\n",
              " 149,\n",
              " 4,\n",
              " 9,\n",
              " 7,\n",
              " 97,\n",
              " 22]"
            ]
          },
          "metadata": {
            "tags": []
          },
          "execution_count": 7
        }
      ]
    },
    {
      "cell_type": "code",
      "metadata": {
        "id": "-W7068zP8nTw",
        "colab": {
          "base_uri": "https://localhost:8080/"
        },
        "outputId": "2d738527-2315-4a52-8321-d747110f7210"
      },
      "source": [
        "images[selected].shape"
      ],
      "execution_count": 8,
      "outputs": [
        {
          "output_type": "execute_result",
          "data": {
            "text/plain": [
              "(30, 256, 256, 3)"
            ]
          },
          "metadata": {
            "tags": []
          },
          "execution_count": 8
        }
      ]
    },
    {
      "cell_type": "code",
      "metadata": {
        "id": "ol-GYb4mG_bC"
      },
      "source": [
        "import tensorflow as tf"
      ],
      "execution_count": 9,
      "outputs": []
    },
    {
      "cell_type": "code",
      "metadata": {
        "id": "ke9JmtSH80on"
      },
      "source": [
        "def image_example(image_string):\n",
        "  image_shape = tf.io.decode_jpeg(image_string).shape\n",
        "\n",
        "  feature = {\n",
        "      'image': _bytes_feature(image_string),\n",
        "  }\n",
        "\n",
        "  return tf.train.Example(features=tf.train.Features(feature=feature))\n",
        "\n",
        "\n",
        "  # The following functions can be used to convert a value to a type compatible\n",
        "# with tf.train.Example.\n",
        "\n",
        "def _bytes_feature(value):\n",
        "  \"\"\"Returns a bytes_list from a string / byte.\"\"\"\n",
        "  if isinstance(value, type(tf.constant(0))):\n",
        "    value = value.numpy() # BytesList won't unpack a string from an EagerTensor.\n",
        "  return tf.train.Feature(bytes_list=tf.train.BytesList(value=[value]))\n",
        "\n",
        "def _float_feature(value):\n",
        "  \"\"\"Returns a float_list from a float / double.\"\"\"\n",
        "  return tf.train.Feature(float_list=tf.train.FloatList(value=[value]))\n",
        "\n",
        "def _int64_feature(value):\n",
        "  \"\"\"Returns an int64_list from a bool / enum / int / uint.\"\"\"\n",
        "  return tf.train.Feature(int64_list=tf.train.Int64List(value=[value]))"
      ],
      "execution_count": 10,
      "outputs": []
    },
    {
      "cell_type": "code",
      "metadata": {
        "id": "3msKG9c3G-bh"
      },
      "source": [
        "record_file  = '/content/drive/MyDrive/gan-getting-started/ruti1.tfrec'\n",
        "with tf.io.TFRecordWriter(record_file) as writer:\n",
        "  for filename in np.array(list(os.listdir(root)))[selected]:\n",
        "    image_string = open(root + '/' + filename, 'rb').read()\n",
        "    tf_example = image_example(image_string)\n",
        "    writer.write(tf_example.SerializeToString())"
      ],
      "execution_count": 11,
      "outputs": []
    },
    {
      "cell_type": "code",
      "metadata": {
        "id": "ppz7JK0qdM1X",
        "colab": {
          "base_uri": "https://localhost:8080/",
          "height": 35
        },
        "outputId": "ff1c8029-79de-4fa9-8a95-8027b184ad0d"
      },
      "source": [
        "root"
      ],
      "execution_count": 12,
      "outputs": [
        {
          "output_type": "execute_result",
          "data": {
            "application/vnd.google.colaboratory.intrinsic+json": {
              "type": "string"
            },
            "text/plain": [
              "'/content/drive/MyDrive/gan-getting-started/monet_jpg'"
            ]
          },
          "metadata": {
            "tags": []
          },
          "execution_count": 12
        }
      ]
    },
    {
      "cell_type": "code",
      "metadata": {
        "id": "sHtW8uQnddLX"
      },
      "source": [
        ""
      ],
      "execution_count": null,
      "outputs": []
    }
  ]
}