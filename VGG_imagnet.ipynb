{
  "nbformat": 4,
  "nbformat_minor": 0,
  "metadata": {
    "accelerator": "GPU",
    "colab": {
      "name": "VGG_imagnet.ipynb",
      "provenance": [],
      "collapsed_sections": [],
      "authorship_tag": "ABX9TyPws6CX4aj9yrETwhQwlX41",
      "include_colab_link": true
    },
    "kernelspec": {
      "display_name": "Python 3",
      "name": "python3"
    },
    "language_info": {
      "name": "python"
    }
  },
  "cells": [
    {
      "cell_type": "markdown",
      "metadata": {
        "id": "view-in-github",
        "colab_type": "text"
      },
      "source": [
        "<a href=\"https://colab.research.google.com/github/rutia2044/rutiarbiv-gmail.com/blob/master/VGG_imagnet.ipynb\" target=\"_parent\"><img src=\"https://colab.research.google.com/assets/colab-badge.svg\" alt=\"Open In Colab\"/></a>"
      ]
    },
    {
      "cell_type": "code",
      "metadata": {
        "colab": {
          "base_uri": "https://localhost:8080/"
        },
        "id": "d1pIZ8_TB0g9",
        "outputId": "da669602-9ae7-4266-b5ad-47d6e22e8622"
      },
      "source": [
        "from google.colab import drive\n",
        "drive.mount('/content/drive')"
      ],
      "execution_count": null,
      "outputs": [
        {
          "output_type": "stream",
          "text": [
            "Drive already mounted at /content/drive; to attempt to forcibly remount, call drive.mount(\"/content/drive\", force_remount=True).\n"
          ],
          "name": "stdout"
        }
      ]
    },
    {
      "cell_type": "code",
      "metadata": {
        "id": "cEQPbjVPDhFP"
      },
      "source": [
        "import numpy as np\n",
        " \n",
        "import torchvision.transforms as transforms\n",
        "from torchvision.utils import make_grid\n",
        " \n",
        "from torch.utils.data import DataLoader\n",
        "from torchvision import datasets\n",
        "from torch.autograd import Variable\n",
        " \n",
        "import torch.nn as nn\n",
        "import torch.nn.functional as F\n",
        "import torch\n",
        " \n",
        "import os\n",
        "import glob\n",
        " \n",
        "import matplotlib.pyplot as plt\n",
        "from tqdm.notebook import tqdm\n",
        "import warnings\n",
        "from tensorflow import keras,summary\n"
      ],
      "execution_count": null,
      "outputs": []
    },
    {
      "cell_type": "code",
      "metadata": {
        "id": "6ygy6Sa2CPqt"
      },
      "source": [
        "#import numpy as np\n",
        "#import matplotlib.pyplot as plt\n",
        "from tqdm import tqdm\n",
        "import os\n",
        "from keras.applications.vgg16 import VGG16\n",
        "\n",
        "#from keras import models, layers,applications\n"
      ],
      "execution_count": null,
      "outputs": []
    },
    {
      "cell_type": "code",
      "metadata": {
        "colab": {
          "base_uri": "https://localhost:8080/"
        },
        "id": "wynBkqLqCSVZ",
        "outputId": "e0a34848-8079-43ce-e39e-45a4d96f9ca9"
      },
      "source": [
        "images = []\n",
        "root = '/content/drive/MyDrive/gan-getting-started/monet_jpg'\n",
        "for file in tqdm(os.listdir(root)):\n",
        "    images.append(plt.imread(root+'/'+file))\n",
        "images = np.array(images)"
      ],
      "execution_count": null,
      "outputs": [
        {
          "output_type": "stream",
          "text": [
            "100%|██████████| 300/300 [00:00<00:00, 413.26it/s]\n"
          ],
          "name": "stderr"
        }
      ]
    },
    {
      "cell_type": "code",
      "metadata": {
        "id": "3pJSM2wCCWOB"
      },
      "source": [
        "images = images/255"
      ],
      "execution_count": null,
      "outputs": []
    },
    {
      "cell_type": "code",
      "metadata": {
        "colab": {
          "base_uri": "https://localhost:8080/"
        },
        "id": "p6j8G5U6OSCz",
        "outputId": "72d7ce5f-6ace-413b-966a-5058b6df41cb"
      },
      "source": [
        "print(images[0][0][0][0])"
      ],
      "execution_count": null,
      "outputs": [
        {
          "output_type": "stream",
          "text": [
            "0.6980392156862745\n"
          ],
          "name": "stdout"
        }
      ]
    },
    {
      "cell_type": "code",
      "metadata": {
        "colab": {
          "base_uri": "https://localhost:8080/"
        },
        "id": "m6464ntODT29",
        "outputId": "d1d21ae1-d452-4d63-aeb8-541c2535617b"
      },
      "source": [
        "\n",
        "#Encoder\n",
        "\n",
        "EncoderBaseModel = VGG16(include_top=False,input_shape=(256, 256, 3),weights='imagenet')\n",
        "EncoderBaseModel.summary()"
      ],
      "execution_count": null,
      "outputs": [
        {
          "output_type": "stream",
          "text": [
            "Model: \"vgg16\"\n",
            "_________________________________________________________________\n",
            "Layer (type)                 Output Shape              Param #   \n",
            "=================================================================\n",
            "input_2 (InputLayer)         [(None, 256, 256, 3)]     0         \n",
            "_________________________________________________________________\n",
            "block1_conv1 (Conv2D)        (None, 256, 256, 64)      1792      \n",
            "_________________________________________________________________\n",
            "block1_conv2 (Conv2D)        (None, 256, 256, 64)      36928     \n",
            "_________________________________________________________________\n",
            "block1_pool (MaxPooling2D)   (None, 128, 128, 64)      0         \n",
            "_________________________________________________________________\n",
            "block2_conv1 (Conv2D)        (None, 128, 128, 128)     73856     \n",
            "_________________________________________________________________\n",
            "block2_conv2 (Conv2D)        (None, 128, 128, 128)     147584    \n",
            "_________________________________________________________________\n",
            "block2_pool (MaxPooling2D)   (None, 64, 64, 128)       0         \n",
            "_________________________________________________________________\n",
            "block3_conv1 (Conv2D)        (None, 64, 64, 256)       295168    \n",
            "_________________________________________________________________\n",
            "block3_conv2 (Conv2D)        (None, 64, 64, 256)       590080    \n",
            "_________________________________________________________________\n",
            "block3_conv3 (Conv2D)        (None, 64, 64, 256)       590080    \n",
            "_________________________________________________________________\n",
            "block3_pool (MaxPooling2D)   (None, 32, 32, 256)       0         \n",
            "_________________________________________________________________\n",
            "block4_conv1 (Conv2D)        (None, 32, 32, 512)       1180160   \n",
            "_________________________________________________________________\n",
            "block4_conv2 (Conv2D)        (None, 32, 32, 512)       2359808   \n",
            "_________________________________________________________________\n",
            "block4_conv3 (Conv2D)        (None, 32, 32, 512)       2359808   \n",
            "_________________________________________________________________\n",
            "block4_pool (MaxPooling2D)   (None, 16, 16, 512)       0         \n",
            "_________________________________________________________________\n",
            "block5_conv1 (Conv2D)        (None, 16, 16, 512)       2359808   \n",
            "_________________________________________________________________\n",
            "block5_conv2 (Conv2D)        (None, 16, 16, 512)       2359808   \n",
            "_________________________________________________________________\n",
            "block5_conv3 (Conv2D)        (None, 16, 16, 512)       2359808   \n",
            "_________________________________________________________________\n",
            "block5_pool (MaxPooling2D)   (None, 8, 8, 512)         0         \n",
            "=================================================================\n",
            "Total params: 14,714,688\n",
            "Trainable params: 14,714,688\n",
            "Non-trainable params: 0\n",
            "_________________________________________________________________\n"
          ],
          "name": "stdout"
        }
      ]
    },
    {
      "cell_type": "code",
      "metadata": {
        "colab": {
          "base_uri": "https://localhost:8080/"
        },
        "id": "9QcKjKf9D0oE",
        "outputId": "95e81c30-0155-46a2-d9ec-f9c805af1aa6"
      },
      "source": [
        "ImgPred = EncoderBaseModel.predict(images)\n",
        "ImgPred.shape"
      ],
      "execution_count": null,
      "outputs": [
        {
          "output_type": "execute_result",
          "data": {
            "text/plain": [
              "(300, 8, 8, 512)"
            ]
          },
          "metadata": {
            "tags": []
          },
          "execution_count": 23
        }
      ]
    },
    {
      "cell_type": "code",
      "metadata": {
        "id": "71Pv8KiV5Qsn",
        "colab": {
          "base_uri": "https://localhost:8080/"
        },
        "outputId": "04691106-581b-4c44-fae4-dca59eea995d"
      },
      "source": [
        "from sklearn.manifold import TSNE\n",
        "\n",
        "#tsneAllImages = TSNE(n_components=700).fit_transform( ImgPred.reshape(300,-1))\n",
        "tsneAllImages = TSNE(n_components=700,method='exact').fit_transform( ImgPred.reshape(300,-1))\n",
        "print(tsneAllImages.shape)"
      ],
      "execution_count": null,
      "outputs": [
        {
          "output_type": "stream",
          "text": [
            "(300, 700)\n"
          ],
          "name": "stdout"
        }
      ]
    },
    {
      "cell_type": "code",
      "metadata": {
        "id": "pwwk_2sUKZf1"
      },
      "source": [
        "\n",
        "# save numpy array as csv file\n",
        "#from numpy import asarray\n",
        "from numpy import savetxt\n",
        "# define data\n",
        "#data = asarray([[0, 1, 2, 3, 4, 5, 6, 7, 8, 9]])\n",
        "# save to csv file\n",
        "savetxt('VGG_TSNE.csv', tsneAllImages, delimiter=',')"
      ],
      "execution_count": null,
      "outputs": []
    },
    {
      "cell_type": "code",
      "metadata": {
        "id": "FOQEKgVhKvxP"
      },
      "source": [
        "\n",
        "# load numpy array from csv file\n",
        "from numpy import loadtxt\n",
        "# load array\n",
        "tsneAllImages = loadtxt('VGG_TSNE.csv', delimiter=',')\n",
        "# print the array\n",
        "print(tsneAllImages)"
      ],
      "execution_count": null,
      "outputs": []
    },
    {
      "cell_type": "code",
      "metadata": {
        "colab": {
          "base_uri": "https://localhost:8080/"
        },
        "id": "igHPv_zBh6hI",
        "outputId": "6e1e4497-7ab7-4356-cfc8-e55be6b20a63"
      },
      "source": [
        "v1=ImgPred[0:30,:,:,:]\n",
        "v2=ImgPred[30:60,:,:,:]\n",
        "v3=ImgPred[30:60,:,:,:]\n",
        "v4=ImgPred[30:60,:,:,:]\n",
        "v5=ImgPred[30:60,:,:,:]\n",
        "v1.shape"
      ],
      "execution_count": null,
      "outputs": [
        {
          "output_type": "execute_result",
          "data": {
            "text/plain": [
              "(30, 8, 8, 512)"
            ]
          },
          "metadata": {
            "tags": []
          },
          "execution_count": 27
        }
      ]
    },
    {
      "cell_type": "markdown",
      "metadata": {
        "id": "GO5r-Wh6pMLt"
      },
      "source": [
        "FID"
      ]
    },
    {
      "cell_type": "code",
      "metadata": {
        "id": "srRjE5repLk3"
      },
      "source": [
        "# example of calculating the frechet inception distance\n",
        "import numpy\n",
        "from numpy import cov\n",
        "from numpy import trace\n",
        "from numpy import iscomplexobj\n",
        "from numpy.random import random\n",
        "from scipy.linalg import sqrtm\n",
        " \n",
        "# calculate frechet inception distance\n",
        "def calculate_fid(act1, act2):\n",
        "\t# calculate mean and covariance statistics\n",
        "\tmu1, sigma1 = act1.mean(axis=0), cov(act1, rowvar=False)\n",
        "\tmu2, sigma2 = act2.mean(axis=0), cov(act2, rowvar=False)\n",
        "\t# calculate sum squared difference between means\n",
        "\tssdiff = numpy.sum((mu1 - mu2)**2.0)\n",
        "\t# calculate sqrt of product between cov\n",
        "\tcovmean = sqrtm(sigma1.dot(sigma2))\n",
        "\t# check and correct imaginary numbers from sqrt\n",
        "\tif iscomplexobj(covmean):\n",
        "\t\tcovmean = covmean.real\n",
        "\t# calculate score\n",
        "\tfid = ssdiff + trace(sigma1 + sigma2 - 2.0 * covmean)\n",
        "\treturn fid\n",
        " \n"
      ],
      "execution_count": null,
      "outputs": []
    },
    {
      "cell_type": "code",
      "metadata": {
        "colab": {
          "base_uri": "https://localhost:8080/"
        },
        "id": "Nz20r0QrxZI_",
        "outputId": "1961494e-95ef-41e1-9d5e-7d1ef5b54fe9"
      },
      "source": [
        "# define two collections of activations\n",
        "act1 = random(30*7000)\n",
        "act1 = act1.reshape((30,7000))\n",
        "act2 = random(30*7000)\n",
        "act2 = act2.reshape((30,7000))\n",
        "# fid between act1 and act1\n",
        "fid = calculate_fid(act1, act1)\n",
        "print('FID (same): %.3f' % fid)\n",
        "# fid between act1 and act2\n",
        "fid = calculate_fid(act1, act2)\n",
        "print('FID (different): %.3f' % fid)"
      ],
      "execution_count": null,
      "outputs": [
        {
          "output_type": "stream",
          "text": [
            "FID (same): -0.001\n",
            "FID (different): 1142.155\n"
          ],
          "name": "stdout"
        }
      ]
    },
    {
      "cell_type": "code",
      "metadata": {
        "colab": {
          "base_uri": "https://localhost:8080/"
        },
        "id": "xGCyQ0kd2h1p",
        "outputId": "6d36835b-5aad-41c7-9287-4b46fda9774d"
      },
      "source": [
        "from sklearn.manifold import TSNE\n",
        "\n",
        "#tsneAllImages = TSNE(n_components=700,method='exact').fit_transform( ImgPred.reshape(300,-1))\n",
        "tsneAllImages = TSNE(n_components=7000,method='exact').fit_transform( ImgPred.reshape(300,-1))\n",
        "print(tsneAllImages.shape)\n"
      ],
      "execution_count": null,
      "outputs": [
        {
          "output_type": "stream",
          "text": [
            "(300, 7000)\n"
          ],
          "name": "stdout"
        }
      ]
    },
    {
      "cell_type": "code",
      "metadata": {
        "colab": {
          "base_uri": "https://localhost:8080/"
        },
        "id": "j_NPRcnM_bAX",
        "outputId": "72e64ffa-e978-4868-e63a-7f72101ac0c2"
      },
      "source": [
        "print(tsneAllImages.shape)\n",
        "tsneV1_Images=tsneAllImages[98:128,:]\n",
        "tsneV2_Images=tsneAllImages[95:125,:]\n",
        "selectTSNE=tsneAllImages[90:120,:]\n",
        "\n",
        "print(tsneV1_Images.shape)\n",
        "print(tsneV2_Images.shape)\n",
        "print(selectTSNE.shape)"
      ],
      "execution_count": null,
      "outputs": [
        {
          "output_type": "stream",
          "text": [
            "(300, 700)\n",
            "(30, 700)\n",
            "(30, 700)\n",
            "(30, 700)\n"
          ],
          "name": "stdout"
        }
      ]
    },
    {
      "cell_type": "code",
      "metadata": {
        "id": "PE6PK0yh-7B0"
      },
      "source": [
        "tsneV1_Images = TSNE(n_components=700,method='exact').fit_transform( v1.reshape(30,-1))\n",
        "#tsneV1_Images = TSNE(n_components=3).fit_transform( v1.reshape(30,-1))\n",
        "print(tsneV1_Images.shape)\n",
        "tsneV2_Images = TSNE(n_components=700,method='exact').fit_transform( v2.reshape(30,-1))\n",
        "#tsneV2_Images = TSNE(n_components=3).fit_transform( v2.reshape(30,-1))\n",
        "print(tsneV2_Images.shape)"
      ],
      "execution_count": null,
      "outputs": []
    },
    {
      "cell_type": "code",
      "metadata": {
        "id": "6A7B-GL-71ec"
      },
      "source": [
        "minIndexesFid=[ 79 ,233 ,252 ,271 , 33, 181, 162 ,142 , 38 ,288, 198 ,227 ,106, 176 ,288 ,163, 148, 282,\n",
        " 230 ,127  , 4, 227 ,209 , 33 ,223 , 44 ,243, 222, 259 , 80]\n",
        "aa=np.asarray(minIndexesFid)"
      ],
      "execution_count": null,
      "outputs": []
    },
    {
      "cell_type": "code",
      "metadata": {
        "colab": {
          "base_uri": "https://localhost:8080/"
        },
        "id": "HrCP-Fcx-MoH",
        "outputId": "7d8958cb-914b-44ba-e2e4-1756c260b75b"
      },
      "source": [
        " TSNEminIndexesFid=tsneAllImages[aa,:]\n",
        "fid = calculate_fid(tsneAllImages, TSNEminIndexesFid)\n",
        "print('FID (different): %.3f' % fid)\n",
        "print(TSNEminIndexesFid.shape)"
      ],
      "execution_count": null,
      "outputs": [
        {
          "output_type": "stream",
          "text": [
            "FID (different): 122.463\n",
            "(30, 700)\n"
          ],
          "name": "stdout"
        }
      ]
    },
    {
      "cell_type": "code",
      "metadata": {
        "colab": {
          "base_uri": "https://localhost:8080/"
        },
        "id": "-T72rYIf7Dj1",
        "outputId": "d53db3f7-6de7-4b5c-fe60-a5c41715d85b"
      },
      "source": [
        "fid = calculate_fid(tsneAllImages, tsneV1_Images)\n",
        "print('FID (same): %.3f' % fid)\n",
        "\n",
        "fid = calculate_fid(tsneAllImages, tsneV2_Images)\n",
        "print('FID (different): %.3f' % fid)\n",
        "\n",
        "fid = calculate_fid(tsneAllImages, selectTSNE)\n",
        "print('FID (different): %.3f' % fid)"
      ],
      "execution_count": null,
      "outputs": [
        {
          "output_type": "stream",
          "text": [
            "FID (same): 130.240\n",
            "FID (different): 153.782\n",
            "FID (different): 161.074\n"
          ],
          "name": "stdout"
        }
      ]
    },
    {
      "cell_type": "code",
      "metadata": {
        "colab": {
          "base_uri": "https://localhost:8080/"
        },
        "id": "hRCHVu_v2ZOw",
        "outputId": "d82826d0-63d3-4117-d0dc-5c37938620f0"
      },
      "source": [
        "#rand 100 vectors of 30 indexs\n",
        "min=124\n",
        "for number in range(1000):   \n",
        "    rndArr=np.random.choice(300, 30)\n",
        "    selectTSNE=tsneAllImages[rndArr,:]\n",
        "    fid = calculate_fid(tsneAllImages, selectTSNE)   \n",
        "    if fid < min:\n",
        "       print('FID (different): %.3f' % fid)\n",
        "       min=fid\n",
        "       minIndx= rndArr\n",
        "print('Min---FID (different): %.3f' % min)\n",
        "print(minIndx)"
      ],
      "execution_count": null,
      "outputs": [
        {
          "output_type": "stream",
          "text": [
            "FID (different): 121.143\n",
            "FID (different): 119.423\n",
            "FID (different): 117.635\n"
          ],
          "name": "stdout"
        }
      ]
    },
    {
      "cell_type": "code",
      "metadata": {
        "id": "8NNAIFv4pRz6"
      },
      "source": [
        "\n",
        "\n",
        "v1 = v1.reshape((30,32768))\n",
        "v2 = v2.reshape((30,32768))\n",
        "fid = calculate_fid(v1, v1)\n",
        "print('FID (same): %.3f' % fid)\n",
        "\n",
        "fid = calculate_fid(v1, v2)\n",
        "print('FID (different): %.3f' % fid)"
      ],
      "execution_count": null,
      "outputs": []
    },
    {
      "cell_type": "markdown",
      "metadata": {
        "id": "zuoyhN_8iCwv"
      },
      "source": [
        "TSNE + CLUSTERING"
      ]
    },
    {
      "cell_type": "code",
      "metadata": {
        "colab": {
          "base_uri": "https://localhost:8080/"
        },
        "id": "0iADR2ZWD8-X",
        "outputId": "bda9b69a-30e4-4b92-b718-bb542a2303d3"
      },
      "source": [
        "from sklearn.manifold import TSNE\n",
        "\n",
        "\n",
        "tsneAllImages = TSNE(n_components=2).fit_transform( ImgPred.reshape(300,-1))\n",
        "tsneAllImages.shape"
      ],
      "execution_count": null,
      "outputs": [
        {
          "output_type": "execute_result",
          "data": {
            "text/plain": [
              "(300, 2)"
            ]
          },
          "metadata": {
            "tags": []
          },
          "execution_count": 11
        }
      ]
    },
    {
      "cell_type": "code",
      "metadata": {
        "id": "oVvdE8KREGIP"
      },
      "source": [
        "from sklearn.cluster import KMeans\n",
        "import collections"
      ],
      "execution_count": null,
      "outputs": []
    },
    {
      "cell_type": "code",
      "metadata": {
        "colab": {
          "base_uri": "https://localhost:8080/"
        },
        "id": "RIZlRWRGEJAQ",
        "outputId": "edc5bc23-c249-4e77-b46a-5e10286dfef2"
      },
      "source": [
        "kmeans = KMeans(n_clusters=30).fit(tsneAllImages)\n",
        "collections.Counter(kmeans.labels_)"
      ],
      "execution_count": null,
      "outputs": [
        {
          "output_type": "execute_result",
          "data": {
            "text/plain": [
              "Counter({0: 1,\n",
              "         1: 10,\n",
              "         2: 21,\n",
              "         3: 2,\n",
              "         4: 1,\n",
              "         5: 1,\n",
              "         6: 83,\n",
              "         7: 1,\n",
              "         8: 1,\n",
              "         9: 1,\n",
              "         10: 1,\n",
              "         11: 1,\n",
              "         12: 1,\n",
              "         13: 23,\n",
              "         14: 1,\n",
              "         15: 1,\n",
              "         16: 1,\n",
              "         17: 1,\n",
              "         18: 1,\n",
              "         19: 1,\n",
              "         20: 16,\n",
              "         21: 19,\n",
              "         22: 30,\n",
              "         23: 1,\n",
              "         24: 1,\n",
              "         25: 25,\n",
              "         26: 21,\n",
              "         27: 17,\n",
              "         28: 1,\n",
              "         29: 15})"
            ]
          },
          "metadata": {
            "tags": []
          },
          "execution_count": 34
        }
      ]
    },
    {
      "cell_type": "code",
      "metadata": {
        "colab": {
          "base_uri": "https://localhost:8080/"
        },
        "id": "HQ6w5dXZELTl",
        "outputId": "444d4924-1885-4602-9f74-3ea2fe639300"
      },
      "source": [
        "select=[]\n",
        "for i in range (30):\n",
        "  select.append(np.nonzero(kmeans.labels_ == i)[0][0])\n",
        "select"
      ],
      "execution_count": null,
      "outputs": [
        {
          "output_type": "execute_result",
          "data": {
            "text/plain": [
              "[113,\n",
              " 101,\n",
              " 2,\n",
              " 150,\n",
              " 279,\n",
              " 254,\n",
              " 3,\n",
              " 280,\n",
              " 32,\n",
              " 95,\n",
              " 249,\n",
              " 157,\n",
              " 234,\n",
              " 1,\n",
              " 115,\n",
              " 285,\n",
              " 196,\n",
              " 175,\n",
              " 220,\n",
              " 231,\n",
              " 24,\n",
              " 29,\n",
              " 0,\n",
              " 215,\n",
              " 149,\n",
              " 4,\n",
              " 9,\n",
              " 7,\n",
              " 97,\n",
              " 22]"
            ]
          },
          "metadata": {
            "tags": []
          },
          "execution_count": 35
        }
      ]
    },
    {
      "cell_type": "code",
      "metadata": {
        "colab": {
          "base_uri": "https://localhost:8080/"
        },
        "id": "qS8yZGbayX4G",
        "outputId": "51a7834c-9375-4341-c011-677d3901cae1"
      },
      "source": [
        "select"
      ],
      "execution_count": null,
      "outputs": [
        {
          "output_type": "execute_result",
          "data": {
            "text/plain": [
              "[113,\n",
              " 101,\n",
              " 2,\n",
              " 150,\n",
              " 279,\n",
              " 254,\n",
              " 3,\n",
              " 280,\n",
              " 32,\n",
              " 95,\n",
              " 249,\n",
              " 157,\n",
              " 234,\n",
              " 1,\n",
              " 115,\n",
              " 285,\n",
              " 196,\n",
              " 175,\n",
              " 220,\n",
              " 231,\n",
              " 24,\n",
              " 29,\n",
              " 0,\n",
              " 215,\n",
              " 149,\n",
              " 4,\n",
              " 9,\n",
              " 7,\n",
              " 97,\n",
              " 22]"
            ]
          },
          "metadata": {
            "tags": []
          },
          "execution_count": 139
        }
      ]
    },
    {
      "cell_type": "code",
      "metadata": {
        "colab": {
          "base_uri": "https://localhost:8080/"
        },
        "id": "U2Rn4qSxyunW",
        "outputId": "82df952f-1376-411f-8615-0dd539ca971b"
      },
      "source": [
        "tsneAllImages[select].shape"
      ],
      "execution_count": null,
      "outputs": [
        {
          "output_type": "execute_result",
          "data": {
            "text/plain": [
              "(30, 700)"
            ]
          },
          "metadata": {
            "tags": []
          },
          "execution_count": 138
        }
      ]
    },
    {
      "cell_type": "markdown",
      "metadata": {
        "id": "9x9B6at9EMCs"
      },
      "source": [
        "AutoEnc Base VGG"
      ]
    }
  ]
}